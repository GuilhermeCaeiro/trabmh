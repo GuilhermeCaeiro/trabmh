{
 "cells": [
  {
   "cell_type": "markdown",
   "id": "cb0ebe2a",
   "metadata": {},
   "source": [
    "# Import packages"
   ]
  },
  {
   "cell_type": "code",
   "execution_count": 24,
   "id": "d426138a",
   "metadata": {},
   "outputs": [],
   "source": [
    "using LinearAlgebra, MAT, DelimitedFiles"
   ]
  },
  {
   "cell_type": "markdown",
   "id": "8021b8ab",
   "metadata": {},
   "source": [
    "# Auxiliary Functions"
   ]
  },
  {
   "cell_type": "code",
   "execution_count": 25,
   "id": "c25fb281",
   "metadata": {},
   "outputs": [
    {
     "data": {
      "text/plain": [
       "ldet_objval (generic function with 1 method)"
      ]
     },
     "metadata": {},
     "output_type": "display_data"
    }
   ],
   "source": [
    "function ldet(A)\n",
    "    (value,sign_det) = logabsdet(A);\n",
    "    if (sign_det > 0)\n",
    "        return value\n",
    "    else\n",
    "        return -Inf\n",
    "    end\n",
    "end\n",
    "\n",
    "function ldet_objval(A,x)\n",
    "    return ldet(A'*diagm(vec(x))*A);\n",
    "end"
   ]
  },
  {
   "cell_type": "code",
   "execution_count": 26,
   "id": "e38d5a52",
   "metadata": {},
   "outputs": [
    {
     "data": {
      "text/plain": [
       "writeTXT (generic function with 1 method)"
      ]
     },
     "metadata": {},
     "output_type": "display_data"
    }
   ],
   "source": [
    "function getMatlabInstance(instanceName,matrixName)\n",
    "    myInst = string(\".\\\\Instances\\\\\",instanceName,\".mat\");\n",
    "    file = matopen(string(myInst));\n",
    "    A = read(file, string(matrixName)); # note that this does NOT introduce a variable ``varname`` into scope\n",
    "    close(file);\n",
    "    return A\n",
    "end\n",
    "\n",
    "function saveMatlabInstance(instanceName,matrixName,matrix)\n",
    "    if !isdir(\".\\\\ResultsInstances\")\n",
    "        mkdir(\".\\\\ResultsInstances\")\n",
    "    end\n",
    "    myInst = string(\".\\\\ResultsInstances\\\\\",instanceName,\".mat\");\n",
    "    matwrite(myInst,Dict(matrixName => matrix));\n",
    "    return\n",
    "end\n",
    "\n",
    "function writeTXT(out_name,notes)\n",
    "    if !isdir(\".\\\\ResultsTXT\")\n",
    "        mkdir(\".\\\\ResultsTXT\")\n",
    "    end\n",
    "    outfile = string(\".\\\\ResultsTXT\\\\\",out_name);\n",
    "    f = open(outfile, \"w\");\n",
    "    for i in eachindex(notes)\n",
    "        println(f, notes[i]);\n",
    "    end\n",
    "    close(f);\n",
    "end"
   ]
  },
  {
   "cell_type": "markdown",
   "id": "ee1a4758",
   "metadata": {},
   "source": [
    "# Local Search Functions"
   ]
  },
  {
   "cell_type": "markdown",
   "id": "edcdeef4",
   "metadata": {},
   "source": [
    "## Initial Solutions"
   ]
  },
  {
   "cell_type": "code",
   "execution_count": 27,
   "id": "b2c84265",
   "metadata": {},
   "outputs": [
    {
     "data": {
      "text/plain": [
       "initGreedy (generic function with 1 method)"
      ]
     },
     "metadata": {},
     "output_type": "display_data"
    }
   ],
   "source": [
    "function initBinary(A,R,s,m,n)\n",
    "    F = svd(A,full= true);\n",
    "    U = F.U;\n",
    "    x = zeros(n,1);\n",
    "    for j = (1:n)\n",
    "       for i = (1:s) \n",
    "           x[j] = x[j] + U[j,i]^2; \n",
    "       end\n",
    "    end\n",
    "    x_save = copy(x);\n",
    "    x = zeros(n,1);\n",
    "    for row in R\n",
    "        x[row] = 1;\n",
    "        x_save[row] = 0;\n",
    "    end\n",
    "    for i = (1:s-m)\n",
    "        max_indice = argmax(x_save);\n",
    "        x[max_indice] = 1;\n",
    "        x_save[max_indice] = 0;\n",
    "    end\n",
    "    zlb = ldet_objval(A,x);\n",
    "    xlb = x;  \n",
    "    return xlb,zlb\n",
    "end\n",
    "\n",
    "function initGreedy(A,R,s,m,n)\n",
    "    F = svd(A,full= true);\n",
    "    U = F.U;\n",
    "    S = F.S;\n",
    "    x = zeros(n,1);\n",
    "    k = min(s,m);\n",
    "    for j = (1:n)\n",
    "       for i = (1:k)\n",
    "           x[j] = x[j] + (S[i]*U[j,i])^2; \n",
    "       end\n",
    "    end\n",
    "    x_save = copy(x);\n",
    "    x = zeros(n,1);\n",
    "    for row in R\n",
    "        x[row] = 1;\n",
    "        x_save[row] = 0;\n",
    "    end\n",
    "    for i = (1:s-m)\n",
    "        max_indice = argmax(x_save);\n",
    "        x[max_indice] = 1;\n",
    "        x_save[max_indice] = 0;\n",
    "    end\n",
    "    zlb = ldet_objval(A,x);\n",
    "    xlb = x;  \n",
    "    return xlb,zlb\n",
    "end"
   ]
  },
  {
   "cell_type": "markdown",
   "id": "53b4fcd3",
   "metadata": {},
   "source": [
    "## Local Searches"
   ]
  },
  {
   "cell_type": "code",
   "execution_count": 28,
   "id": "9474c682",
   "metadata": {
    "scrolled": true
   },
   "outputs": [
    {
     "data": {
      "text/plain": [
       "LSBI (generic function with 1 method)"
      ]
     },
     "metadata": {},
     "output_type": "display_data"
    }
   ],
   "source": [
    "function LSFI(A,n,x_init,z_lb) # Local Search First Improvement\n",
    "    x = copy(x_init);\n",
    "    flag = true;\n",
    "    while flag\n",
    "        flag = false;\n",
    "        for i = (1:n)\n",
    "            if x[i] > 0\n",
    "                x[i] = 0;\n",
    "                for j = (1:n) \n",
    "                    if j != i && x[j] == 0\n",
    "                        x[j] = 1;\n",
    "                        z_lb_new = ldet_objval(A,x);\n",
    "                        if z_lb_new > z_lb\n",
    "                            z_lb = z_lb_new;\n",
    "                            flag = true;\n",
    "                            break \n",
    "                        else\n",
    "                            x[j] = 0;\n",
    "                        end\n",
    "                    end\n",
    "                end\n",
    "                if flag\n",
    "                    break \n",
    "                else\n",
    "                    x[i] = 1;\n",
    "                end\n",
    "            end\n",
    "        end\n",
    "    end\n",
    "    return x,z_lb\n",
    "end\n",
    "\n",
    "\n",
    "function LSFP(A,n,x_init,z_lb) # Local Search First Improvement Plus\n",
    "    x = copy(x_init);\n",
    "    flag = true;\n",
    "    leave_x,enter_x = 0,0;\n",
    "    while flag\n",
    "        flag = false;\n",
    "        for i = (1:n)\n",
    "            if x[i] > 0\n",
    "                x[i] = 0;\n",
    "                for j = (1:n) \n",
    "                    if j != i && x[j] == 0\n",
    "                        x[j] = 1;\n",
    "                        z_lb_new = ldet_objval(A,x);\n",
    "                        if z_lb_new > z_lb\n",
    "                            leave_x = i;\n",
    "                            enter_x = j;\n",
    "                            z_lb = z_lb_new;\n",
    "                            flag = true; \n",
    "                        end\n",
    "                        x[j] = 0;\n",
    "                    end\n",
    "                end\n",
    "                if flag\n",
    "                    break \n",
    "                else\n",
    "                    x[i] = 1;\n",
    "                end\n",
    "            end\n",
    "        end\n",
    "        if flag\n",
    "            #x[leave_x] = 0;\n",
    "            x[enter_x] = 1;\n",
    "        end\n",
    "    end\n",
    "    return x,z_lb\n",
    "end\n",
    "\n",
    "function LSBI(A,n,x_init,z_lb) # Local Search First Improvement Plus\n",
    "    x = copy(x_init);\n",
    "    flag = true;\n",
    "    leave_x,enter_x = 0,0;\n",
    "    while flag\n",
    "        flag = false;\n",
    "        for i = (1:n)\n",
    "            if x[i] > 0\n",
    "                x[i] = 0;\n",
    "                for j = (1:n) \n",
    "                    if j != i && x[j] == 0\n",
    "                        x[j] = 1;\n",
    "                        z_lb_new = ldet_objval(A,x);\n",
    "                        if z_lb_new > z_lb\n",
    "                            leave_x = i;\n",
    "                            enter_x = j;\n",
    "                            z_lb = z_lb_new;\n",
    "                            flag = true; \n",
    "                        end\n",
    "                        x[j] = 0;\n",
    "                    end\n",
    "                end\n",
    "                x[i] = 1;\n",
    "            end\n",
    "        end\n",
    "        if flag\n",
    "            x[leave_x] = 0;\n",
    "            x[enter_x] = 1;\n",
    "        end\n",
    "    end\n",
    "    return x,z_lb\n",
    "end"
   ]
  },
  {
   "cell_type": "code",
   "execution_count": 29,
   "id": "843905ea",
   "metadata": {},
   "outputs": [
    {
     "data": {
      "text/plain": [
       "runLocalSearch (generic function with 1 method)"
      ]
     },
     "metadata": {},
     "output_type": "display_data"
    }
   ],
   "source": [
    "function runLocalSearch(A,R,n,m,s)\n",
    "    # Initial solution\n",
    "    t_init_bin = @elapsed x_init_bin,z_init_bin = initBinary(A,R,s,m,n);\n",
    "    t_init_gdy = @elapsed x_init_gdy,z_init_gdy = initGreedy(A,R,s,m,n);\n",
    "    # Get initial results\n",
    "    X = [x_init_bin,x_init_gdy];\n",
    "    Z = [z_init_bin,z_init_gdy];\n",
    "    T = [t_init_bin,t_init_gdy];\n",
    "    # Heuristics\n",
    "    X_init = [x_init_bin,x_init_gdy];\n",
    "    for x_init in X_init\n",
    "        z_init = ldet_objval(A,x_init);\n",
    "        t_FI   = @elapsed x_FI, z_FI = LSFI(A,n,x_init,z_init);\n",
    "        t_FP   = @elapsed x_FP, z_FP = LSFP(A,n,x_init,z_init);\n",
    "        t_BI   = @elapsed x_BI, z_BI = LSBI(A,n,x_init,z_init);\n",
    "        push!(X,x_FI,x_FP,x_BI);\n",
    "        push!(Z,z_FI,z_FP,z_BI);\n",
    "        push!(T,t_FI,t_FP,t_BI);\n",
    "    end\n",
    "    z_heur = maximum(Z);\n",
    "    indsX  = findall(Z .== z_heur); # we can receive more than one indice here\n",
    "    x_heur = X[indsX[1]];\n",
    "    # More informations\n",
    "    sum_x = [];\n",
    "    max_x = [];\n",
    "    for el in X\n",
    "        push!(sum_x,sum(el));\n",
    "        push!(max_x,maximum(el));\n",
    "    end\n",
    "    # All Informations\n",
    "    infos = (Z,T,sum_x,max_x,indsX);\n",
    "    return x_heur, z_heur,infos\n",
    "end"
   ]
  },
  {
   "cell_type": "markdown",
   "id": "52e1d755",
   "metadata": {},
   "source": [
    "# Run code"
   ]
  },
  {
   "cell_type": "code",
   "execution_count": 30,
   "id": "7d6679e9",
   "metadata": {},
   "outputs": [
    {
     "data": {
      "text/plain": [
       "getMatlabInitialInfos (generic function with 1 method)"
      ]
     },
     "metadata": {},
     "output_type": "display_data"
    }
   ],
   "source": [
    "function getMatlabInitialInfos(n,i)\n",
    "    nameInst = string(\"Instance_\",n,\"_\",i);\n",
    "    A = getMatlabInstance(nameInst,\"A\");\n",
    "    R = trunc.(Int,getMatlabInstance(nameInst,\"R\"));\n",
    "    s = trunc(Int,n/2);\n",
    "    m = trunc(Int,n/4);\n",
    "    return A,R,m,s\n",
    "end"
   ]
  },
  {
   "cell_type": "code",
   "execution_count": 31,
   "id": "c7cc5161",
   "metadata": {},
   "outputs": [
    {
     "data": {
      "text/plain": [
       "writeAllInfos (generic function with 1 method)"
      ]
     },
     "metadata": {},
     "output_type": "display_data"
    }
   ],
   "source": [
    "function writeAllInfos(Results,InfoLS,info_ls,results)\n",
    "    if !isdir(\".\\\\ResultsCSV\")\n",
    "        mkdir(\".\\\\ResultsCSV\")\n",
    "    end\n",
    "    # File name\n",
    "    resultsstr = string(\".\\\\ResultsCSV\\\\results.csv\");\n",
    "    zLSstr     = string(\".\\\\ResultsCSV\\\\zLS.csv\");\n",
    "    tLSstr     = string(\".\\\\ResultsCSV\\\\tLS.csv\");\n",
    "    sum_str    = string(\".\\\\ResultsCSV\\\\sumLS.csv\");\n",
    "    max_str    = string(\".\\\\ResultsCSV\\\\maxLS.csv\");\n",
    "    # Get infos\n",
    "    z       = info_ls[1];\n",
    "    t       = info_ls[2];\n",
    "    sum_x   = info_ls[3];\n",
    "    max_x   = info_ls[4];\n",
    "    # push new informations\n",
    "    push!(Results,results);\n",
    "    push!(InfoLS[1],z);\n",
    "    push!(InfoLS[2],t);\n",
    "    push!(InfoLS[3],sum_x);\n",
    "    push!(InfoLS[4],max_x);\n",
    "    # save results\n",
    "    writedlm(resultsstr,  Results, ',')\n",
    "    writedlm(zLSstr,InfoLS[1], ',');\n",
    "    writedlm(tLSstr,InfoLS[2], ',');\n",
    "    writedlm(sum_str,InfoLS[3], ',');\n",
    "    writedlm(max_str,InfoLS[4], ',');\n",
    "    return Results,InfoLS\n",
    "end"
   ]
  },
  {
   "cell_type": "code",
   "execution_count": 32,
   "id": "264bfec8",
   "metadata": {},
   "outputs": [
    {
     "data": {
      "text/plain": [
       "saveFiles (generic function with 1 method)"
      ]
     },
     "metadata": {},
     "output_type": "display_data"
    }
   ],
   "source": [
    "function saveFiles(n,i,x_ls)\n",
    "    x_ls_name   = string(\"x_ls_\",n,\"_\",i);\n",
    "    saveMatlabInstance(x_ls_name,\"x_ls\",x_ls);\n",
    "    return\n",
    "end"
   ]
  },
  {
   "cell_type": "code",
   "execution_count": 33,
   "id": "16d8ebe0",
   "metadata": {
    "scrolled": true
   },
   "outputs": [
    {
     "name": "stdout",
     "output_type": "stream",
     "text": [
      "40,1: Finished LS -1.5538065375157495 with 1.6770228 sec\n"
     ]
    },
    {
     "name": "stdout",
     "output_type": "stream",
     "text": [
      "40,2: Finished LS -0.7013141749532328 with 0.3363247 sec\n"
     ]
    },
    {
     "name": "stdout",
     "output_type": "stream",
     "text": [
      "40,3: Finished LS -1.4265686998844602 with 0.1655936 sec\n"
     ]
    },
    {
     "name": "stdout",
     "output_type": "stream",
     "text": [
      "60,1: Finished LS -1.7811835092404427 with 1.2213344 sec\n"
     ]
    },
    {
     "name": "stdout",
     "output_type": "stream",
     "text": [
      "60,2: Finished LS -2.3348248346041665 with 1.287859 sec\n"
     ]
    },
    {
     "name": "stdout",
     "output_type": "stream",
     "text": [
      "60,3: Finished LS -1.40011221194216 with 1.2728199 sec\n"
     ]
    },
    {
     "name": "stdout",
     "output_type": "stream",
     "text": [
      "80,1: Finished LS -2.7777165416793443 with 16.3234614 sec\n"
     ]
    },
    {
     "name": "stdout",
     "output_type": "stream",
     "text": [
      "80,2: Finished LS -2.426260131985708 with 18.041299 sec\n"
     ]
    },
    {
     "name": "stdout",
     "output_type": "stream",
     "text": [
      "80,3: Finished LS -2.487376083484186 with 16.1240388 sec\n"
     ]
    },
    {
     "name": "stdout",
     "output_type": "stream",
     "text": [
      "100,1: Finished LS -2.426174239847802 with 42.8729734 sec\n"
     ]
    },
    {
     "name": "stdout",
     "output_type": "stream",
     "text": [
      "100,2: Finished LS -2.7135833838735475 with 52.7915722 sec\n"
     ]
    },
    {
     "name": "stdout",
     "output_type": "stream",
     "text": [
      "100,3: Finished LS -2.6575468031818037 with 41.9369386 sec\n"
     ]
    },
    {
     "name": "stdout",
     "output_type": "stream",
     "text": [
      "140,1: Finished LS -3.0773270100606767 with 326.2719769 sec\n"
     ]
    },
    {
     "name": "stdout",
     "output_type": "stream",
     "text": [
      "140,2: Finished LS -3.2177118307946273 with 307.3792277 sec\n"
     ]
    },
    {
     "name": "stdout",
     "output_type": "stream",
     "text": [
      "140,3: Finished LS -1.5186079694057744 with 328.5164291 sec\n"
     ]
    },
    {
     "name": "stdout",
     "output_type": "stream",
     "text": [
      "180,1: Finished LS -2.0571155641648313 with 1041.7419984 sec"
     ]
    },
    {
     "name": "stdout",
     "output_type": "stream",
     "text": [
      "\n",
      "180,2: Finished LS -1.6546466910029751 with 1124.2092824 sec\n"
     ]
    },
    {
     "name": "stdout",
     "output_type": "stream",
     "text": [
      "180,3: Finished LS -1.6699037015070772 with 1170.7045778 sec\n"
     ]
    },
    {
     "name": "stdout",
     "output_type": "stream",
     "text": [
      "200,1: Finished LS -1.759501274045146 with 1934.500163 sec\n"
     ]
    },
    {
     "name": "stdout",
     "output_type": "stream",
     "text": [
      "200,2: Finished LS -1.2923407534551357 with 1729.9786321 sec\n"
     ]
    },
    {
     "name": "stdout",
     "output_type": "stream",
     "text": [
      "200,3: Finished LS -1.503750049415018 with 1954.8900997 sec\n"
     ]
    },
    {
     "name": "stdout",
     "output_type": "stream",
     "text": [
      "240,1: Finished LS -0.4699185897377617 with 4701.3517185 sec\n"
     ]
    },
    {
     "name": "stdout",
     "output_type": "stream",
     "text": [
      "240,2: Finished LS -0.6524620064741053 with 3665.8828854 sec\n"
     ]
    },
    {
     "name": "stdout",
     "output_type": "stream",
     "text": [
      "240,3: Finished LS -0.745437975660058 with 3634.7814395 sec\n"
     ]
    },
    {
     "name": "stdout",
     "output_type": "stream",
     "text": [
      "280,1: Finished LS 1.4678852372372595 with 10209.3180701 sec\n"
     ]
    },
    {
     "name": "stdout",
     "output_type": "stream",
     "text": [
      "280,2: Finished LS 1.1929173548780811 with 7754.9068301 sec\n"
     ]
    },
    {
     "name": "stdout",
     "output_type": "stream",
     "text": [
      "280,3: Finished LS 0.811209854274862 with 6523.1469564 sec\n"
     ]
    },
    {
     "name": "stdout",
     "output_type": "stream",
     "text": [
      "300,1: Finished LS 4.335766598515761 with 9905.3361422 sec\n"
     ]
    },
    {
     "name": "stdout",
     "output_type": "stream",
     "text": [
      "300,2: Finished LS 3.534493185990471 with 7914.3491479 sec\n"
     ]
    },
    {
     "name": "stdout",
     "output_type": "stream",
     "text": [
      "300,3: Finished LS 3.0015984667992934 with 8535.7416016 sec\n"
     ]
    }
   ],
   "source": [
    "Results = [];\n",
    "InfoLS  = [[],[],[],[]];\n",
    "InfoLS_old  = [[],[],[],[]];\n",
    "my_N = [40,60,80,100,140,180,200,240,280,300];\n",
    "for n in my_N\n",
    "    for i in (1:3)\n",
    "        A,R,m,s = getMatlabInitialInfos(n,i);\n",
    "        time_ls = @elapsed x_ls, z_ls,info_ls = runLocalSearch(A,R,n,m,s);\n",
    "        println(\"$(n),$(i): Finished LS $(z_ls) with $(time_ls) sec\")\n",
    "        flush(stdout); # show println\n",
    "        results  = [n,m,s,i,z_ls,time_ls];\n",
    "        Results,InfoLS = writeAllInfos(Results,InfoLS,info_ls,results);\n",
    "        saveFiles(n,i,x_ls)\n",
    "    end\n",
    "end"
   ]
  }
 ],
 "metadata": {
  "kernelspec": {
   "display_name": "Julia 1.6.1",
   "language": "julia",
   "name": "julia-1.6"
  },
  "language_info": {
   "file_extension": ".jl",
   "mimetype": "application/julia",
   "name": "julia",
   "version": "1.6.7"
  },
  "latex_envs": {
   "LaTeX_envs_menu_present": true,
   "autoclose": false,
   "autocomplete": true,
   "bibliofile": "biblio.bib",
   "cite_by": "apalike",
   "current_citInitial": 1,
   "eqLabelWithNumbers": true,
   "eqNumInitial": 1,
   "hotkeys": {
    "equation": "Ctrl-E",
    "itemize": "Ctrl-I"
   },
   "labels_anchors": false,
   "latex_user_defs": false,
   "report_style_numbering": false,
   "user_envs_cfg": false
  },
  "toc": {
   "base_numbering": 1,
   "nav_menu": {},
   "number_sections": true,
   "sideBar": true,
   "skip_h1_title": false,
   "title_cell": "Table of Contents",
   "title_sidebar": "Contents",
   "toc_cell": false,
   "toc_position": {
    "height": "calc(100% - 180px)",
    "left": "10px",
    "top": "150px",
    "width": "165px"
   },
   "toc_section_display": true,
   "toc_window_display": true
  },
  "vscode": {
   "interpreter": {
    "hash": "53ca681ee8de3b54bf163d1b625454d8007d7c8aeafa791857ff706faaf06eee"
   }
  }
 },
 "nbformat": 4,
 "nbformat_minor": 5
}
