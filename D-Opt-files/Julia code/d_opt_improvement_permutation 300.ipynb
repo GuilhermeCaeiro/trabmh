{
 "cells": [
  {
   "cell_type": "code",
   "execution_count": 1,
   "metadata": {},
   "outputs": [],
   "source": [
    "import sys\n",
    "# caution: path[0] is reserved for script path (or '' in REPL)\n",
    "sys.path.insert(1, '../../')\n",
    "import numpy as np\n",
    "import matplotlib.pyplot as plt\n",
    "import pandas as pd\n",
    "import mat73\n",
    "from scipy.io import loadmat\n",
    "import os\n",
    "import time\n",
    "import collections\n",
    "from search import Search\n",
    "from utils import Utils, Struct\n",
    "from individual import Individual\n",
    "from initialization import Initialization\n",
    "import random\n",
    "random.seed(42)"
   ]
  },
  {
   "cell_type": "code",
   "execution_count": 2,
   "metadata": {},
   "outputs": [
    {
     "name": "stdout",
     "output_type": "stream",
     "text": [
      "df permutation_instances_300-x.csv - rows: 30 - columns: 62\n",
      "df compiled - rows: 30 - columns: 64, columns added: 14\n"
     ]
    }
   ],
   "source": [
    "dfs = []\n",
    "repeated_columns = []\n",
    "unique_columns = []\n",
    "path = '../../results/permutation/300/'\n",
    "files = [f for f in os.listdir(path) if os.path.isfile(os.path.join(path, f))]\n",
    "for file_name in files:\n",
    "    df = pd.read_csv(path + file_name, delimiter=';', header=0, converters={i: str for i in range(100)})\n",
    "    print(f\"df {file_name} - rows: {len(df)} - columns: {len(df.columns)}\")\n",
    "    \n",
    "    for column in df.columns:\n",
    "        repeated_columns.append(column)\n",
    "\n",
    "    dfs.append(df)\n",
    "df = pd.concat(dfs, ignore_index=True)\n",
    "columns_to_add = [\"ls_improved_solution\", \"ls_best_sol\", \"ls_best_sol_gap\", \"ls_total_time\", \"ls_sol_values\", \"ls_individuals_hashes\", \"local_search_method\", \n",
    "\"pr_best_sol\", \"pr_best_sol_gap\", \"pr_total_time\", \"pr_sol_values\", \"pr_individuals_hashes\", \"path_relinking_method\", \"improvement_msg\"]\n",
    "for column in columns_to_add:\n",
    "    if column not in df.columns:\n",
    "        df[column] = \"\"\n",
    "\n",
    "df.to_csv('../../results/permutation/compiled/results_300.csv', index=False, sep=\";\")\n",
    "df = pd.read_csv('../../results/permutation/compiled/results_300.csv', delimiter=';', header=0, converters={i: str for i in range(100)})\n",
    "print(f\"df compiled - rows: {len(df)} - columns: {len(df.columns)}, columns added: {len(columns_to_add)}\")"
   ]
  },
  {
   "cell_type": "code",
   "execution_count": 3,
   "metadata": {},
   "outputs": [
    {
     "data": {
      "text/plain": [
       "Index(['experiment_id', 'execution_id', 'seed', 'instance', 'n', 'm', 's',\n",
       "       'max_generations', 'max_generations_without_change', 'max_time',\n",
       "       'max_time_without_change', 'population_size', 'encoding_method',\n",
       "       'initialization_method', 'selection_method', 'mutation_method',\n",
       "       'self_mutation', 'crossover_method', 'parent_selection_method',\n",
       "       'mutation_probability', 'crossover_probability', 'elite_size',\n",
       "       'offspring_size', 'perform_path_relinking', 'generate_plots',\n",
       "       'avoid_clones', 'perform_adaptation', 'perform_local_search',\n",
       "       'local_search_method', 'best_known_result', 'best_solution_found',\n",
       "       'gap', 'num_generations', 'total_time_ms', 'start_time', 'finish_time',\n",
       "       'message', 'ga_best_sol', 'ga_best_sol_gap', 'ga_total_time',\n",
       "       'ls_improved_solution', 'ls_best_sol', 'ls_best_sol_gap',\n",
       "       'ls_total_time', 'pr_improved_solution', 'pr_best_sol',\n",
       "       'pr_best_sol_gap', 'pr_total_time', 'best_sol_changes',\n",
       "       'best_sol_change_times', 'best_sol_change_generations', 'elite_fitness',\n",
       "       'ls_sol_values', 'pr_sol_values', 'raw_best_solution',\n",
       "       'best_solution_hash', 'elite_hashes', 'improvement_candidates_hashes',\n",
       "       'ls_individuals_hashes', 'pr_individuals_hashes', 'cpu_name',\n",
       "       'version_hash', 'path_relinking_method', 'improvement_msg'],\n",
       "      dtype='object')"
      ]
     },
     "execution_count": 3,
     "metadata": {},
     "output_type": "execute_result"
    }
   ],
   "source": [
    "df.columns"
   ]
  },
  {
   "cell_type": "code",
   "execution_count": 6,
   "metadata": {},
   "outputs": [
    {
     "name": "stdout",
     "output_type": "stream",
     "text": [
      "LSBI time limit reached\n",
      "Row Index: 0 finished in 128.14077520370483.\n",
      "Row Index: 1 finished in 23.352757930755615.\n",
      "Row Index: 2 finished in 96.99609160423279.\n",
      "Row Index: 3 finished in 100.90896606445312.\n",
      "Row Index: 4 finished in 46.73725342750549.\n",
      "LSBI time limit reached\n",
      "Row Index: 5 finished in 134.58346438407898.\n",
      "Row Index: 6 finished in 69.85502099990845.\n",
      "Row Index: 7 finished in 124.62969756126404.\n",
      "LSBI time limit reached\n",
      "Row Index: 8 finished in 130.14816522598267.\n",
      "Row Index: 9 finished in 78.112619638443.\n",
      "Row Index: 10 finished in 73.12362265586853.\n",
      "Row Index: 11 finished in 94.81520485877991.\n",
      "Row Index: 12 finished in 94.71136260032654.\n",
      "Row Index: 13 finished in 70.81560707092285.\n",
      "Row Index: 14 finished in 46.50009608268738.\n",
      "LSBI time limit reached\n",
      "Row Index: 15 finished in 149.30645608901978.\n",
      "Row Index: 16 finished in 95.7336311340332.\n",
      "Row Index: 17 finished in 23.35393190383911.\n",
      "Row Index: 18 finished in 46.49750733375549.\n",
      "Row Index: 19 finished in 92.79672741889954.\n",
      "LSBI time limit reached\n",
      "Row Index: 20 finished in 125.84562635421753.\n",
      "Row Index: 21 finished in 80.21002078056335.\n",
      "Row Index: 22 finished in 39.59515333175659.\n",
      "LSBI time limit reached\n",
      "Row Index: 23 finished in 132.84912061691284.\n",
      "Row Index: 24 finished in 59.18763065338135.\n",
      "Row Index: 25 finished in 81.53518033027649.\n",
      "Row Index: 26 finished in 80.19270586967468.\n",
      "LSBI time limit reached\n",
      "Row Index: 27 finished in 130.73102569580078.\n",
      "LSBI time limit reached\n",
      "Row Index: 28 finished in 133.4504132270813.\n",
      "LSBI time limit reached\n",
      "Row Index: 29 finished in 141.93490552902222.\n"
     ]
    }
   ],
   "source": [
    "def perform_improvement(path_to_csv, path_to_save, time_to_search, n_individuals, local_search_method = \"LSBI\", path_relinking_method = \"backward\"):\n",
    "    df = pd.read_csv(path_to_csv, delimiter=\";\", converters={i: str for i in range(100)}) # set the path to the results.csv to get chromosomes to perform improvements file here\n",
    "    \n",
    "    for row in df.itertuples():\n",
    "        improvement_msg = \"\"\n",
    "        instance = loadmat(os.path.join(\"../../instances/\", row.instance))\n",
    "        instance_name = row.instance\n",
    "        known_result = mat73.loadmat(os.path.join(\"../../known_results\", \"x_ls_\" + instance_name.replace(\"Instance_\", \"\")))\n",
    "        best_known_Z = Search.ldet_objval(instance[\"A\"], known_result[\"x_ls\"].reshape(-1,1))\n",
    "        start = time.time()\n",
    "        A = instance[\"A\"]\n",
    "        n = int(row.n)\n",
    "        s = int(row.s)\n",
    "        encoding = \"binary\"\n",
    "        env=Struct({\"A\": A, \"n\": n, \"s\": s, \"encoding\": encoding})\n",
    "    \n",
    "\n",
    "        hashes = np.unique(row.improvement_candidates_hashes.split(\",\"))\n",
    "        chromosomes = [Utils.hash_2_chromosome(h, n) for h in hashes][:n_individuals]\n",
    "        msg = \"\"\n",
    "        stop = False\n",
    "        for c in chromosomes:\n",
    "            if np.array(list(c)).shape[0] != n:\n",
    "                msg = f\"Error: chromosome shape is not correct at row Index: {row.Index} - c_shape: {np.array(list(c)).shape[0]} - n: {n}\"\n",
    "                stop = True\n",
    "                break\n",
    "        if stop:\n",
    "            print(msg)\n",
    "            continue\n",
    "        \n",
    "        # raw_chromosomes =  row.improvement_candidates.split(\",\")\n",
    "        # chromosomes = [np.array(list(c), dtype=int).reshape(-1,1) for c in raw_chromosomes][:n_individuals]\n",
    "        individuals = [Individual(chromosome=c, environment=env) for c in chromosomes]\n",
    "\n",
    "        if len(chromosomes) < 1:\n",
    "            improvement_msg = f\"Skiped LS at row with {len(chromosomes)} chromosomes. \"\n",
    "            df.loc[row.Index, \"improvement_msg\"] += improvement_msg\n",
    "        else:\n",
    "            # Local Search\n",
    "            ls_individuals, ls_solutions = Search.local_search(environment=env, individuals = individuals, max_time = time_to_search, best_sol = best_known_Z, local_search_method = local_search_method)\n",
    "            df.loc[row.Index, \"ls_improved_solution\"] = max(ls_solutions) > float(row.best_solution_found)\n",
    "            df.loc[row.Index, \"ls_best_sol\"] = max(ls_solutions)\n",
    "            df.loc[row.Index, \"ls_best_sol_gap\"] = (max(ls_solutions) - best_known_Z)/abs(best_known_Z)\n",
    "            df.loc[row.Index, \"ls_total_time\"] = time_to_search\n",
    "            df.loc[row.Index, \"ls_sol_values\"] = \",\".join([str(sol) for sol in ls_solutions])\n",
    "            df.loc[row.Index, \"ls_individuals_hashes\"] = \",\".join([str(ind.individual_hash) for ind in ls_individuals])\n",
    "            df.loc[row.Index, \"local_search_method\"] = local_search_method\n",
    "\n",
    "        if len(chromosomes) < 2:\n",
    "            improvement_msg = f\"Skiped PR at row with {len(chromosomes)} chromosomes. \"\n",
    "            df.loc[row.Index, \"improvement_msg\"] += improvement_msg\n",
    "        else:\n",
    "            # Path Relinking\n",
    "            pr_hashes, pr_solutions, pr_time = Search.path_relinking(chromosomes, A, path_relinking_method)\n",
    "            df.loc[row.Index, \"pr_improved_solution\"] = max(pr_solutions) > float(row.best_solution_found)\n",
    "            df.loc[row.Index, \"pr_best_sol\"] = max(pr_solutions)\n",
    "            df.loc[row.Index, \"pr_best_sol_gap\"] = (max(pr_solutions) - best_known_Z)/abs(best_known_Z)\n",
    "            df.loc[row.Index, \"pr_total_time\"] = pr_time\n",
    "            df.loc[row.Index, \"pr_sol_values\"] = \",\".join([str(s) for s in pr_solutions])\n",
    "            df.loc[row.Index, \"pr_individuals_hashes\"] = \",\".join([str(h) for h in pr_hashes])\n",
    "            df.loc[row.Index, \"path_relinking_method\"] = path_relinking_method\n",
    "            \n",
    "        print(f\"Row Index: {row.Index} finished in {time.time()-start}.\")\n",
    "\n",
    "    df.to_csv(path_to_save, index=False, sep=\";\", mode=\"a\", header=True)\n",
    "\n",
    "path_to_csv = \"../../results/permutation/compiled/results_300.csv\" # set the path to the results.csv to get chromosomes to perform improvements file here\n",
    "path_to_save = \"../../results/permutation/compiled/results_improved_300.csv\"\n",
    "ls_max_time = 120\n",
    "perform_improvement(path_to_csv, path_to_save, ls_max_time, 50)"
   ]
  },
  {
   "cell_type": "code",
   "execution_count": 15,
   "metadata": {},
   "outputs": [],
   "source": [
    "instance = loadmat(os.path.join(\"../../instances/\", row.instance))\n",
    "instance_name = row.instance\n",
    "known_result = mat73.loadmat(os.path.join(\"../../known_results\", \"x_ls_\" + instance_name.replace(\"Instance_\", \"\")))\n",
    "best_known_Z = Search.ldet_objval(instance[\"A\"], known_result[\"x_ls\"].reshape(-1,1))"
   ]
  },
  {
   "cell_type": "code",
   "execution_count": 7,
   "metadata": {},
   "outputs": [],
   "source": [
    "row = df.iloc[0]"
   ]
  },
  {
   "cell_type": "code",
   "execution_count": 16,
   "metadata": {},
   "outputs": [
    {
     "data": {
      "text/plain": [
       "4.3357665985157565"
      ]
     },
     "execution_count": 16,
     "metadata": {},
     "output_type": "execute_result"
    }
   ],
   "source": [
    "best_known_Z"
   ]
  }
 ],
 "metadata": {
  "kernelspec": {
   "display_name": "Python 3",
   "language": "python",
   "name": "python3"
  },
  "language_info": {
   "codemirror_mode": {
    "name": "ipython",
    "version": 3
   },
   "file_extension": ".py",
   "mimetype": "text/x-python",
   "name": "python",
   "nbconvert_exporter": "python",
   "pygments_lexer": "ipython3",
   "version": "3.9.13"
  },
  "orig_nbformat": 4,
  "vscode": {
   "interpreter": {
    "hash": "53ca681ee8de3b54bf163d1b625454d8007d7c8aeafa791857ff706faaf06eee"
   }
  }
 },
 "nbformat": 4,
 "nbformat_minor": 2
}
