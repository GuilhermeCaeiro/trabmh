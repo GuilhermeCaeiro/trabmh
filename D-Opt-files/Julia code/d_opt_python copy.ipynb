{
 "cells": [
  {
   "cell_type": "markdown",
   "id": "cb0ebe2a",
   "metadata": {},
   "source": [
    "# Import packages"
   ]
  },
  {
   "cell_type": "markdown",
   "id": "8021b8ab",
   "metadata": {},
   "source": [
    "# Auxiliary Functions"
   ]
  },
  {
   "cell_type": "code",
   "execution_count": 1,
   "id": "bedd871e",
   "metadata": {},
   "outputs": [],
   "source": [
    "import numpy as np\n",
    "from copy import deepcopy\n",
    "from scipy.io import loadmat\n",
    "import os\n",
    "import time"
   ]
  },
  {
   "cell_type": "code",
   "execution_count": 2,
   "id": "5e6d87d3",
   "metadata": {},
   "outputs": [],
   "source": [
    "def ldet(A):\n",
    "    sign, value = np.linalg.slogdet(A)\n",
    "    if sign > 0:\n",
    "        return value\n",
    "    else:\n",
    "        return -np.inf\n",
    "def ldet_objval(A,x):\n",
    "    return ldet(np.dot(np.dot(A.T, np.diag(x.T[0])), A))"
   ]
  },
  {
   "cell_type": "code",
   "execution_count": 3,
   "id": "757f1851",
   "metadata": {},
   "outputs": [],
   "source": [
    "def init_binary(A,R,s,m,n):\n",
    "    U, S, VH = np.linalg.svd(A, full_matrices=True)\n",
    "    x = np.zeros((n,1))\n",
    "    for j in range(n):\n",
    "        for i in range(s):\n",
    "            x[j] += (U[j,i]**2)\n",
    "    x_save = deepcopy(x)\n",
    "    x = np.zeros((n,1))\n",
    "    for row in R:\n",
    "        x[row-1] = 1\n",
    "        x_save[row-1] = 0\n",
    "\n",
    "    for i in range(s-m):\n",
    "        max_indice = np.argmax(x_save)\n",
    "        x[max_indice] = 1\n",
    "        x_save[max_indice] = 0\n",
    "    zlb = ldet_objval(A, x)\n",
    "    xlb = x\n",
    "    return xlb, zlb\n",
    "\n",
    "def init_greedy(A,R,s,m,n):\n",
    "    U, S, VH = np.linalg.svd(A, full_matrices=True)\n",
    "    x = np.zeros((n,1))\n",
    "    k = min(s,m)\n",
    "    for j in range(n):\n",
    "        for i in range(k):\n",
    "            x[j] += (S[i] * U[j,i]**2)\n",
    "    x_save = deepcopy(x)\n",
    "    x = np.zeros((n,1))\n",
    "    for row in R:\n",
    "        x[row-1] = 1\n",
    "        x_save[row-1] = 0\n",
    "\n",
    "    for i in range(s-m):\n",
    "        max_indice = np.argmax(x_save)\n",
    "        x[max_indice] = 1\n",
    "        x_save[max_indice] = 0\n",
    "\n",
    "    zlb = ldet_objval(A, x)\n",
    "    xlb = x\n",
    "    return xlb, zlb"
   ]
  },
  {
   "cell_type": "code",
   "execution_count": 4,
   "id": "83945615",
   "metadata": {},
   "outputs": [],
   "source": [
    "def LSFI(A,n,x_init,z_lb): # Local Search First Improvement\n",
    "    x = deepcopy(x_init)\n",
    "    flag = True\n",
    "    while flag:\n",
    "        flag = False\n",
    "        for i in range(n):\n",
    "            if x[i] > 0:\n",
    "                x[i] = 0\n",
    "                for j in range(n):\n",
    "                    if j != i and x[j] == 0:\n",
    "                        x[j] = 1\n",
    "                        z_lb_new = ldet_objval(A, x)\n",
    "                        if z_lb_new > z_lb:\n",
    "                            z_lb = z_lb_new\n",
    "                            flag = True\n",
    "                            break\n",
    "                        else:\n",
    "                            x[j] = 0\n",
    "                if flag:\n",
    "                    break\n",
    "                else:\n",
    "                    x[i] = 1\n",
    "    return x, z_lb\n",
    "\n",
    "def LSFP(A,n,x_init,z_lb): # Local Search First Improvement Plus\n",
    "    x = deepcopy(x_init)\n",
    "    flag = True\n",
    "    leave_x, enter_x = 0, 0\n",
    "    while flag:\n",
    "        flag = False\n",
    "        for i in range(n):\n",
    "            if x[i] > 0:\n",
    "                x[i] = 0\n",
    "                for j in range(n):\n",
    "                    if j != i and x[j] == 0:\n",
    "                        x[j] = 1\n",
    "                        z_lb_new = ldet_objval(A, x)\n",
    "                        if z_lb_new > z_lb:\n",
    "                            leave_x, enter_x = i, j\n",
    "                            z_lb = z_lb_new\n",
    "                            flag = True\n",
    "                        x[j] = 0\n",
    "                if flag:\n",
    "                    break\n",
    "                else:\n",
    "                    x[i] = 1\n",
    "        if flag:\n",
    "            # x[leave_x] = 0\n",
    "            x[enter_x] = 1\n",
    "    return x, z_lb\n",
    "\n",
    "def LSBI(A,n,x_init,z_lb): # Local Search Best Improvement\n",
    "    x = deepcopy(x_init)\n",
    "    flag = True\n",
    "    leave_x, enter_x = 0, 0\n",
    "    while flag:\n",
    "        flag = False\n",
    "        for i in range(n):\n",
    "            if x[i] > 0:\n",
    "                x[i] = 0\n",
    "                for j in range(n):\n",
    "                    if j != i and x[j] == 0:\n",
    "                        x[j] = 1\n",
    "                        z_lb_new = ldet_objval(A, x)\n",
    "                        if z_lb_new > z_lb:\n",
    "                            leave_x, enter_x = i, j\n",
    "                            z_lb = z_lb_new\n",
    "                            flag = True\n",
    "                        x[j] = 0\n",
    "                x[i] = 1\n",
    "        if flag:\n",
    "            x[leave_x] = 0\n",
    "            x[enter_x] = 1\n",
    "    return x, z_lb\n"
   ]
  },
  {
   "cell_type": "code",
   "execution_count": 5,
   "id": "9dd947b2",
   "metadata": {},
   "outputs": [],
   "source": [
    "def run_local_search(A, R, n, m, s):\n",
    "    x_init_bin, z_init_bin = init_binary(A, R, s, m, n)\n",
    "    x_init_gre, z_init_gre = init_greedy(A, R, s, m, n)\n",
    "    X = [x_init_bin, x_init_gre]\n",
    "    Z = [z_init_bin, z_init_gre]\n",
    "\n",
    "    X_init = [x_init_bin, x_init_gre]\n",
    "    for x_init in X_init:\n",
    "        x, z = LSFI(A, n, x_init, z_init_bin)\n",
    "        X.append(x)\n",
    "        Z.append(z)\n",
    "        x, z = LSFP(A, n, x_init, z_init_bin)\n",
    "        X.append(x)\n",
    "        Z.append(z)\n",
    "        x, z = LSBI(A, n, x_init, z_init_bin)\n",
    "        X.append(x)\n",
    "        Z.append(z)\n",
    "    z_heur = np.max(Z)\n",
    "    indsX = np.where(Z == z_heur)[0]\n",
    "    x_heur = X[indsX[0]]\n",
    "\n",
    "    sum_x = []\n",
    "    max_x = []\n",
    "    for x in X:\n",
    "        sum_x.append(np.sum(x))\n",
    "        max_x.append(np.max(x))\n",
    "    return x_heur, z_heur, (X, Z, sum_x, max_x, indsX)    "
   ]
  },
  {
   "cell_type": "code",
   "execution_count": 6,
   "id": "b4ca6308",
   "metadata": {},
   "outputs": [
    {
     "name": "stdout",
     "output_type": "stream",
     "text": [
      "['Instance_40_1', 'Instance_40_2', 'Instance_40_3', 'Instance_60_1', 'Instance_60_2', 'Instance_60_3', 'Instance_80_1', 'Instance_80_2', 'Instance_80_3', 'Instance_100_1', 'Instance_100_2', 'Instance_100_3', 'Instance_140_1', 'Instance_140_2', 'Instance_140_3', 'Instance_180_1', 'Instance_180_2', 'Instance_180_3', 'Instance_200_1', 'Instance_200_2', 'Instance_200_3', 'Instance_240_1', 'Instance_240_2', 'Instance_240_3', 'Instance_280_1', 'Instance_280_2', 'Instance_280_3', 'Instance_300_1', 'Instance_300_2', 'Instance_300_3']\n"
     ]
    }
   ],
   "source": [
    "instances = [f\"Instance_{n}_{i}\" for n in [40,60,80,100,140,180,200,240,280,300] for i in range(1,4)]\n",
    "print(instances)"
   ]
  },
  {
   "cell_type": "code",
   "execution_count": 7,
   "id": "388d9fcd",
   "metadata": {},
   "outputs": [
    {
     "name": "stdout",
     "output_type": "stream",
     "text": [
      "Finished LS Instance_40_1 - Result: -1.5538065375157495 - Time: 0.23537969589233398\n",
      "Finished LS Instance_40_2 - Result: -0.7013141749532328 - Time: 0.40554380416870117\n",
      "Finished LS Instance_40_3 - Result: -1.417194747674704 - Time: 0.3327031135559082\n",
      "Finished LS Instance_60_1 - Result: -1.7811835092404427 - Time: 1.4317052364349365\n",
      "Finished LS Instance_60_2 - Result: -2.3348248346041665 - Time: 1.5300977230072021\n",
      "Finished LS Instance_60_3 - Result: -1.40011221194216 - Time: 0.7731006145477295\n",
      "Finished LS Instance_80_1 - Result: -2.7777165416793443 - Time: 4.012126684188843\n",
      "Finished LS Instance_80_2 - Result: -2.426260131985708 - Time: 2.5497827529907227\n",
      "Finished LS Instance_80_3 - Result: -2.4546132059018886 - Time: 4.655780792236328\n",
      "Finished LS Instance_100_1 - Result: -2.502724115620391 - Time: 3.981982946395874\n",
      "Finished LS Instance_100_2 - Result: -2.874370133356307 - Time: 5.445460081100464\n",
      "Finished LS Instance_100_3 - Result: -2.6437356608557825 - Time: 8.655131340026855\n",
      "Finished LS Instance_140_1 - Result: -3.1835704632272566 - Time: 80.82811856269836\n",
      "Finished LS Instance_140_2 - Result: -3.0002132849975394 - Time: 205.92571330070496\n",
      "Finished LS Instance_140_3 - Result: -1.5517976690696946 - Time: 203.40525913238525\n",
      "Finished LS Instance_180_1 - Result: -2.187354972285906 - Time: 342.20833015441895\n",
      "Finished LS Instance_180_2 - Result: -1.6347818420276536 - Time: 345.28503942489624\n",
      "Finished LS Instance_180_3 - Result: -1.700487947360421 - Time: 322.4959554672241\n",
      "Finished LS Instance_200_1 - Result: -1.8772262335782428 - Time: 581.5562627315521\n",
      "Finished LS Instance_200_2 - Result: -1.292340753455135 - Time: 570.8823096752167\n",
      "Finished LS Instance_200_3 - Result: -1.5037500494150184 - Time: 610.358948469162\n",
      "Finished LS Instance_240_1 - Result: -0.4699185897377617 - Time: 2443.3443303108215\n",
      "Finished LS Instance_240_2 - Result: -0.7162398168555276 - Time: 958.3066983222961\n",
      "Finished LS Instance_240_3 - Result: -0.8252977732984188 - Time: 889.2154231071472\n",
      "Finished LS Instance_280_1 - Result: 1.158442497549265 - Time: 2272.7423119544983\n",
      "Finished LS Instance_280_2 - Result: 1.1929173548780816 - Time: 1995.2707960605621\n",
      "Finished LS Instance_280_3 - Result: 0.6860816945396581 - Time: 1783.104971408844\n",
      "Finished LS Instance_300_1 - Result: 4.390261138448039 - Time: 6224.781499147415\n",
      "Finished LS Instance_300_2 - Result: 3.53449318599047 - Time: 2579.4267196655273\n",
      "Finished LS Instance_300_3 - Result: 3.001598466799294 - Time: 5853.0553295612335\n"
     ]
    }
   ],
   "source": [
    "for instance_name in instances:\n",
    "        instance = loadmat(os.path.join('../instances', instance_name))\n",
    "        A = instance[\"A\"]\n",
    "        n = A.shape[0]\n",
    "        m = A.shape[1]\n",
    "        s = int(n/2)\n",
    "        R = instance['R']\n",
    "        time_ini = time.time()\n",
    "        x_ls, z_ls, info_ls = run_local_search(A, R, n, m, s)\n",
    "        time_end = time.time()\n",
    "        print(f\"Finished LS {instance_name} - Result: {z_ls} - Time: {time_end - time_ini}\")"
   ]
  }
 ],
 "metadata": {
  "kernelspec": {
   "display_name": "Python 3",
   "language": "python",
   "name": "python3"
  },
  "language_info": {
   "codemirror_mode": {
    "name": "ipython",
    "version": 3
   },
   "file_extension": ".py",
   "mimetype": "text/x-python",
   "name": "python",
   "nbconvert_exporter": "python",
   "pygments_lexer": "ipython3",
   "version": "3.9.13"
  },
  "latex_envs": {
   "LaTeX_envs_menu_present": true,
   "autoclose": false,
   "autocomplete": true,
   "bibliofile": "biblio.bib",
   "cite_by": "apalike",
   "current_citInitial": 1,
   "eqLabelWithNumbers": true,
   "eqNumInitial": 1,
   "hotkeys": {
    "equation": "Ctrl-E",
    "itemize": "Ctrl-I"
   },
   "labels_anchors": false,
   "latex_user_defs": false,
   "report_style_numbering": false,
   "user_envs_cfg": false
  },
  "toc": {
   "base_numbering": 1,
   "nav_menu": {},
   "number_sections": true,
   "sideBar": true,
   "skip_h1_title": false,
   "title_cell": "Table of Contents",
   "title_sidebar": "Contents",
   "toc_cell": false,
   "toc_position": {
    "height": "calc(100% - 180px)",
    "left": "10px",
    "top": "150px",
    "width": "165px"
   },
   "toc_section_display": true,
   "toc_window_display": true
  },
  "vscode": {
   "interpreter": {
    "hash": "53ca681ee8de3b54bf163d1b625454d8007d7c8aeafa791857ff706faaf06eee"
   }
  }
 },
 "nbformat": 4,
 "nbformat_minor": 5
}
