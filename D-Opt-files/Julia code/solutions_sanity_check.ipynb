{
 "cells": [
  {
   "cell_type": "code",
   "execution_count": 1,
   "metadata": {},
   "outputs": [],
   "source": [
    "import sys\n",
    "# caution: path[0] is reserved for script path (or '' in REPL)\n",
    "sys.path.insert(1, '../../')\n",
    "import numpy as np\n",
    "import matplotlib.pyplot as plt\n",
    "import pandas as pd\n",
    "import mat73\n",
    "from scipy.io import loadmat\n",
    "import os\n",
    "import time\n",
    "from search import Search\n",
    "from utils import Utils, Struct\n",
    "from individual import Individual\n",
    "from initialization import Initialization"
   ]
  },
  {
   "cell_type": "code",
   "execution_count": 3,
   "metadata": {},
   "outputs": [],
   "source": [
    "path_to_csv = \"../../results/results_init_test_improve_incomplete_sanitycheck.csv\" # set the path to the results.csv to get chromosomes to perform improvements file here\n",
    "df = pd.read_csv(path_to_csv, delimiter=\";\")"
   ]
  },
  {
   "cell_type": "code",
   "execution_count": 7,
   "metadata": {},
   "outputs": [
    {
     "data": {
      "text/plain": [
       "Index(['experiment_id', 'execution_id', 'seed', 'instance', 'n', 'm', 's',\n",
       "       'best_known_result', 'max_generations',\n",
       "       'max_generations_without_change', 'max_time', 'max_time_without_change',\n",
       "       'population_size', 'encoding_method', 'initialization_method',\n",
       "       'selection_method', 'mutation_method', 'self_mutation',\n",
       "       'crossover_method', 'parent_selection_method', 'mutation_probability',\n",
       "       'crossover_probability', 'elite_size', 'offspring_size',\n",
       "       'perform_path_relinking', 'generate_plots', 'avoid_clones',\n",
       "       'perform_adaptation', 'perform_local_search', 'start_time',\n",
       "       'finish_time', 'total_time_ms', 'best_solution_found',\n",
       "       'best_solution_hash', 'gap', 'elite_fitness', 'elite_hash',\n",
       "       'num_generations', 'message', 'version_hash', 'cpu_name',\n",
       "       'best_sol_changes', 'best_sol_change_times',\n",
       "       'best_sol_change_generations', 'raw_solution', 'improvement_candidates',\n",
       "       'pr_individuals', 'pr_sol_values', 'ls_individuals', 'ls_sol_values'],\n",
       "      dtype='object')"
      ]
     },
     "execution_count": 7,
     "metadata": {},
     "output_type": "execute_result"
    }
   ],
   "source": [
    "df.columns"
   ]
  },
  {
   "cell_type": "code",
   "execution_count": 25,
   "metadata": {},
   "outputs": [
    {
     "name": "stdout",
     "output_type": "stream",
     "text": [
      "exact 17\n",
      "infeasible 14\n",
      "feasible 675\n",
      "total rows 689\n"
     ]
    }
   ],
   "source": [
    "exact = 0\n",
    "feasible = 0\n",
    "infeasible = 0\n",
    "for row in df.itertuples():\n",
    "    exact += row.s == Utils.hash_2_chromosome(row.best_solution_hash).sum()\n",
    "    feasible += row.s >= Utils.hash_2_chromosome(row.best_solution_hash).sum()\n",
    "    infeasible += row.s < Utils.hash_2_chromosome(row.best_solution_hash).sum()\n",
    "print(\"exact\", exact)\n",
    "print(\"infeasible\", infeasible)\n",
    "print(\"feasible\", feasible)\n",
    "print(\"total rows\", infeasible + feasible)"
   ]
  }
 ],
 "metadata": {
  "kernelspec": {
   "display_name": "Python 3",
   "language": "python",
   "name": "python3"
  },
  "language_info": {
   "codemirror_mode": {
    "name": "ipython",
    "version": 3
   },
   "file_extension": ".py",
   "mimetype": "text/x-python",
   "name": "python",
   "nbconvert_exporter": "python",
   "pygments_lexer": "ipython3",
   "version": "3.9.13"
  },
  "orig_nbformat": 4,
  "vscode": {
   "interpreter": {
    "hash": "53ca681ee8de3b54bf163d1b625454d8007d7c8aeafa791857ff706faaf06eee"
   }
  }
 },
 "nbformat": 4,
 "nbformat_minor": 2
}
