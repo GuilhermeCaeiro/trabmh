{
  "cells": [
    {
      "cell_type": "markdown",
      "id": "lspXfNVg-Udv",
      "metadata": {
        "id": "lspXfNVg-Udv"
      },
      "source": [
        "# Julia Installation\n",
        "\n",
        "Based on [this repository](https://github.com/Dsantra92/Julia-on-Colab)."
      ]
    },
    {
      "cell_type": "code",
      "execution_count": 1,
      "id": "WveGyxuo-Y4K",
      "metadata": {
        "id": "WveGyxuo-Y4K"
      },
      "outputs": [],
      "source": [
        "# Installation cell\n",
        "%%capture\n",
        "%%shell\n",
        "if ! command -v julia 3>&1 > /dev/null\n",
        "then\n",
        "    wget -q 'https://julialang-s3.julialang.org/bin/linux/x64/1.7/julia-1.7.2-linux-x86_64.tar.gz' \\\n",
        "        -O /tmp/julia.tar.gz\n",
        "    tar -x -f /tmp/julia.tar.gz -C /usr/local --strip-components 1\n",
        "    rm /tmp/julia.tar.gz\n",
        "fi\n",
        "julia -e 'using Pkg; pkg\"add IJulia; precompile;\"'\n",
        "echo 'Done'"
      ]
    },
    {
      "cell_type": "code",
      "execution_count": 2,
      "id": "Otu6pDeW-9mh",
      "metadata": {
        "colab": {
          "base_uri": "https://localhost:8080/"
        },
        "id": "Otu6pDeW-9mh",
        "outputId": "2b5852ff-02d3-4a2c-ea9f-c2fe986fc8cf"
      },
      "outputs": [
        {
          "name": "stdout",
          "output_type": "stream",
          "text": [
            "Julian working\n"
          ]
        }
      ],
      "source": [
        "println(\"Julian working\")"
      ]
    },
    {
      "cell_type": "markdown",
      "id": "cb0ebe2a",
      "metadata": {
        "id": "cb0ebe2a"
      },
      "source": [
        "# Import packages"
      ]
    },
    {
      "cell_type": "code",
      "execution_count": 1,
      "id": "d426138a",
      "metadata": {
        "colab": {
          "base_uri": "https://localhost:8080/"
        },
        "id": "d426138a",
        "outputId": "ef7a32c3-2e87-4ddb-8772-4c4736cf7bbf"
      },
      "outputs": [
        {
          "name": "stderr",
          "output_type": "stream",
          "text": [
            "\u001b[32m\u001b[1m    Updating\u001b[22m\u001b[39m registry at `~/.julia/registries/General.toml`\n",
            "\u001b[32m\u001b[1m   Resolving\u001b[22m\u001b[39m package versions...\n",
            "\u001b[32m\u001b[1m   Installed\u001b[22m\u001b[39m OpenSSL_jll ──────── v1.1.19+0\n",
            "\u001b[32m\u001b[1m   Installed\u001b[22m\u001b[39m TranscodingStreams ─ v0.9.10\n",
            "\u001b[32m\u001b[1m   Installed\u001b[22m\u001b[39m Requires ─────────── v1.3.0\n",
            "\u001b[32m\u001b[1m   Installed\u001b[22m\u001b[39m HDF5_jll ─────────── v1.12.2+2\n",
            "\u001b[32m\u001b[1m   Installed\u001b[22m\u001b[39m BufferedStreams ──── v1.1.0\n",
            "\u001b[32m\u001b[1m   Installed\u001b[22m\u001b[39m Compat ───────────── v4.5.0\n",
            "\u001b[32m\u001b[1m   Installed\u001b[22m\u001b[39m CodecZlib ────────── v0.7.0\n",
            "\u001b[32m\u001b[1m   Installed\u001b[22m\u001b[39m HDF5 ─────────────── v0.16.13\n",
            "\u001b[32m\u001b[1m   Installed\u001b[22m\u001b[39m MAT ──────────────── v0.10.3\n",
            "\u001b[32m\u001b[1m    Updating\u001b[22m\u001b[39m `~/.julia/environments/v1.7/Project.toml`\n",
            " \u001b[90m [23992714] \u001b[39m\u001b[92m+ MAT v0.10.3\u001b[39m\n",
            "\u001b[32m\u001b[1m    Updating\u001b[22m\u001b[39m `~/.julia/environments/v1.7/Manifest.toml`\n",
            " \u001b[90m [e1450e63] \u001b[39m\u001b[92m+ BufferedStreams v1.1.0\u001b[39m\n",
            " \u001b[90m [944b1d66] \u001b[39m\u001b[92m+ CodecZlib v0.7.0\u001b[39m\n",
            " \u001b[90m [34da2185] \u001b[39m\u001b[92m+ Compat v4.5.0\u001b[39m\n",
            " \u001b[90m [f67ccb44] \u001b[39m\u001b[92m+ HDF5 v0.16.13\u001b[39m\n",
            " \u001b[90m [23992714] \u001b[39m\u001b[92m+ MAT v0.10.3\u001b[39m\n",
            " \u001b[90m [ae029012] \u001b[39m\u001b[92m+ Requires v1.3.0\u001b[39m\n",
            " \u001b[90m [3bb67fe8] \u001b[39m\u001b[92m+ TranscodingStreams v0.9.10\u001b[39m\n",
            " \u001b[90m [0234f1f7] \u001b[39m\u001b[92m+ HDF5_jll v1.12.2+2\u001b[39m\n",
            " \u001b[90m [458c3c95] \u001b[39m\u001b[92m+ OpenSSL_jll v1.1.19+0\u001b[39m\n",
            " \u001b[90m [37e2e46d] \u001b[39m\u001b[92m+ LinearAlgebra\u001b[39m\n",
            " \u001b[90m [2f01184e] \u001b[39m\u001b[92m+ SparseArrays\u001b[39m\n",
            " \u001b[90m [e66e0078] \u001b[39m\u001b[92m+ CompilerSupportLibraries_jll\u001b[39m\n",
            " \u001b[90m [4536629a] \u001b[39m\u001b[92m+ OpenBLAS_jll\u001b[39m\n",
            " \u001b[90m [8e850b90] \u001b[39m\u001b[92m+ libblastrampoline_jll\u001b[39m\n",
            "\u001b[32m\u001b[1m    Building\u001b[22m\u001b[39m HDF5 → `~/.julia/scratchspaces/44cfe95a-1eb2-52ea-b672-e2afdf69b78f/b5df7c3cab3a00c33c2e09c6bd23982a75e2fbb2/build.log`\n",
            "\u001b[32m\u001b[1mPrecompiling\u001b[22m\u001b[39m project...\n",
            "\u001b[32m  ✓ \u001b[39m\u001b[90mCompilerSupportLibraries_jll\u001b[39m\n",
            "\u001b[32m  ✓ \u001b[39m\u001b[90mCompat\u001b[39m\n",
            "\u001b[32m  ✓ \u001b[39m\u001b[90mRequires\u001b[39m\n",
            "\u001b[32m  ✓ \u001b[39m\u001b[90mBufferedStreams\u001b[39m\n",
            "\u001b[32m  ✓ \u001b[39m\u001b[90mTranscodingStreams\u001b[39m\n",
            "\u001b[32m  ✓ \u001b[39m\u001b[90mOpenBLAS_jll\u001b[39m\n",
            "\u001b[32m  ✓ \u001b[39m\u001b[90mOpenSSL_jll\u001b[39m\n",
            "\u001b[32m  ✓ \u001b[39m\u001b[90mlibblastrampoline_jll\u001b[39m\n",
            "\u001b[32m  ✓ \u001b[39m\u001b[90mCodecZlib\u001b[39m\n",
            "\u001b[32m  ✓ \u001b[39m\u001b[90mHDF5_jll\u001b[39m\n",
            "\u001b[32m  ✓ \u001b[39m\u001b[90mHDF5\u001b[39m\n",
            "\u001b[32m  ✓ \u001b[39mMAT\n",
            "  12 dependencies successfully precompiled in 12 seconds (16 already precompiled)\n"
          ]
        }
      ],
      "source": [
        "import Pkg; Pkg.add(\"MAT\")\n",
        "using LinearAlgebra, MAT, DelimitedFiles"
      ]
    },
    {
      "cell_type": "markdown",
      "id": "8021b8ab",
      "metadata": {
        "id": "8021b8ab"
      },
      "source": [
        "# Auxiliary Functions"
      ]
    },
    {
      "cell_type": "code",
      "execution_count": 81,
      "id": "19913548-fc97-49f3-b520-7c402cae8e86",
      "metadata": {
        "colab": {
          "base_uri": "https://localhost:8080/"
        },
        "id": "19913548-fc97-49f3-b520-7c402cae8e86",
        "outputId": "edd0a5f6-e368-4e3a-cb82-9a7edc294375"
      },
      "outputs": [
        {
          "data": {
            "text/plain": [
              "get_time_in_ms (generic function with 1 method)"
            ]
          },
          "execution_count": 81,
          "metadata": {},
          "output_type": "execute_result"
        }
      ],
      "source": [
        "function get_time_in_ms()\n",
        "    return convert(Dates.Millisecond, Dates.now())\n",
        "end"
      ]
    },
    {
      "cell_type": "code",
      "execution_count": 82,
      "id": "2438d3ba-9ff6-4585-8790-70a4ce90aa89",
      "metadata": {
        "id": "2438d3ba-9ff6-4585-8790-70a4ce90aa89"
      },
      "outputs": [],
      "source": [
        "start_time = 0;"
      ]
    },
    {
      "cell_type": "code",
      "execution_count": 83,
      "id": "c25fb281",
      "metadata": {
        "colab": {
          "base_uri": "https://localhost:8080/"
        },
        "id": "c25fb281",
        "outputId": "fa478101-43e7-4700-87d4-12ce588641c9"
      },
      "outputs": [
        {
          "data": {
            "text/plain": [
              "ldet_objval (generic function with 1 method)"
            ]
          },
          "execution_count": 83,
          "metadata": {},
          "output_type": "execute_result"
        }
      ],
      "source": [
        "function ldet(A)\n",
        "    (value,sign_det) = logabsdet(A);\n",
        "    if (sign_det > 0)\n",
        "        return value\n",
        "    else\n",
        "        return -Inf\n",
        "    end\n",
        "end\n",
        "\n",
        "function ldet_objval(A,x)\n",
        "    return ldet(A'*diagm(vec(x))*A);\n",
        "end"
      ]
    },
    {
      "cell_type": "code",
      "execution_count": 84,
      "id": "e38d5a52",
      "metadata": {
        "colab": {
          "base_uri": "https://localhost:8080/"
        },
        "id": "e38d5a52",
        "outputId": "e8695507-700a-474d-ae2c-842f4ab36881"
      },
      "outputs": [
        {
          "data": {
            "text/plain": [
              "writeTXT (generic function with 1 method)"
            ]
          },
          "execution_count": 84,
          "metadata": {},
          "output_type": "execute_result"
        }
      ],
      "source": [
        "function getMatlabInstance(instanceName,matrixName)\n",
        "    myInst = string(instanceName,\".mat\");\n",
        "    file = matopen(string(myInst));\n",
        "    A = read(file, string(matrixName)); # note that this does NOT introduce a variable ``varname`` into scope\n",
        "    close(file);\n",
        "    return A\n",
        "end\n",
        "\n",
        "function saveMatlabInstance(instanceName,matrixName,matrix)\n",
        "    if !isdir(\"ResultsInstances\")\n",
        "        mkdir(\"ResultsInstances\")\n",
        "    end\n",
        "    myInst = string(\"ResultsInstances/\",instanceName,\".mat\");\n",
        "    matwrite(myInst,Dict(matrixName => matrix));\n",
        "    return\n",
        "end\n",
        "\n",
        "function writeTXT(out_name,notes)\n",
        "    if !isdir(\"ResultsTXT\")\n",
        "        mkdir(\"ResultsTXT\")\n",
        "    end\n",
        "    outfile = string(\"ResultsTXT/\",out_name);\n",
        "    f = open(outfile, \"w\");\n",
        "    for i in eachindex(notes)\n",
        "        println(f, notes[i]);\n",
        "    end\n",
        "    close(f);\n",
        "end"
      ]
    },
    {
      "cell_type": "markdown",
      "id": "ee1a4758",
      "metadata": {
        "id": "ee1a4758"
      },
      "source": [
        "# Local Search Functions"
      ]
    },
    {
      "cell_type": "markdown",
      "id": "edcdeef4",
      "metadata": {
        "id": "edcdeef4"
      },
      "source": [
        "## Initial Solutions"
      ]
    },
    {
      "cell_type": "code",
      "execution_count": 85,
      "id": "b2c84265",
      "metadata": {
        "colab": {
          "base_uri": "https://localhost:8080/"
        },
        "id": "b2c84265",
        "outputId": "2dd51101-9685-4545-cb17-d8b8a332812e"
      },
      "outputs": [
        {
          "data": {
            "text/plain": [
              "initGreedy (generic function with 1 method)"
            ]
          },
          "execution_count": 85,
          "metadata": {},
          "output_type": "execute_result"
        }
      ],
      "source": [
        "function initBinary(A,R,s,m,n)\n",
        "    F = svd(A,full= true);\n",
        "    U = F.U;\n",
        "    x = zeros(n,1);\n",
        "    for j = (1:n)\n",
        "       for i = (1:s) \n",
        "           x[j] = x[j] + U[j,i]^2; \n",
        "       end\n",
        "    end\n",
        "    x_save = copy(x);\n",
        "    x = zeros(n,1);\n",
        "    for row in R\n",
        "        x[row] = 1;\n",
        "        x_save[row] = 0;\n",
        "    end\n",
        "    for i = (1:s-m)\n",
        "        max_indice = argmax(x_save);\n",
        "        x[max_indice] = 1;\n",
        "        x_save[max_indice] = 0;\n",
        "    end\n",
        "    zlb = ldet_objval(A,x);\n",
        "    xlb = x;  \n",
        "    return xlb,zlb\n",
        "end\n",
        "\n",
        "function initGreedy(A,R,s,m,n)\n",
        "    F = svd(A,full= true);\n",
        "    U = F.U;\n",
        "    S = F.S;\n",
        "    x = zeros(n,1);\n",
        "    k = min(s,m);\n",
        "    for j = (1:n)\n",
        "       for i = (1:k)\n",
        "           x[j] = x[j] + (S[i]*U[j,i])^2; \n",
        "       end\n",
        "    end\n",
        "    x_save = copy(x);\n",
        "    x = zeros(n,1);\n",
        "    for row in R\n",
        "        x[row] = 1;\n",
        "        x_save[row] = 0;\n",
        "    end\n",
        "    for i = (1:s-m)\n",
        "        max_indice = argmax(x_save);\n",
        "        x[max_indice] = 1;\n",
        "        x_save[max_indice] = 0;\n",
        "    end\n",
        "    zlb = ldet_objval(A,x);\n",
        "    xlb = x;  \n",
        "    return xlb,zlb\n",
        "end"
      ]
    },
    {
      "cell_type": "markdown",
      "id": "53b4fcd3",
      "metadata": {
        "id": "53b4fcd3"
      },
      "source": [
        "## Local Searches"
      ]
    },
    {
      "cell_type": "code",
      "execution_count": 86,
      "id": "9474c682",
      "metadata": {
        "colab": {
          "base_uri": "https://localhost:8080/"
        },
        "id": "9474c682",
        "outputId": "b60f9647-07a3-496f-c9df-3c63cd30e088",
        "scrolled": true
      },
      "outputs": [
        {
          "data": {
            "text/plain": [
              "LSBI (generic function with 1 method)"
            ]
          },
          "execution_count": 86,
          "metadata": {},
          "output_type": "execute_result"
        }
      ],
      "source": [
        "function LSFI(A,n,x_init,z_lb) # Local Search First Improvement\n",
        "    x = copy(x_init);\n",
        "    flag = true;\n",
        "    while flag\n",
        "        flag = false;\n",
        "        for i = (1:n)\n",
        "            if x[i] > 0\n",
        "                x[i] = 0;\n",
        "                for j = (1:n) \n",
        "                    if j != i && x[j] == 0\n",
        "                        x[j] = 1;\n",
        "                        z_lb_new = ldet_objval(A,x);\n",
        "                        if z_lb_new > z_lb\n",
        "                            z_lb = z_lb_new;\n",
        "                            flag = true;\n",
        "                            break \n",
        "                        else\n",
        "                            x[j] = 0;\n",
        "                        end\n",
        "                    end\n",
        "                end\n",
        "                if flag\n",
        "                    break \n",
        "                else\n",
        "                    x[i] = 1;\n",
        "                end\n",
        "            end\n",
        "        end\n",
        "    end\n",
        "    return x,z_lb\n",
        "end\n",
        "\n",
        "\n",
        "function LSFP(A,n,x_init,z_lb) # Local Search First Improvement Plus\n",
        "    x = copy(x_init);\n",
        "    flag = true;\n",
        "    leave_x,enter_x = 0,0;\n",
        "    while flag\n",
        "        flag = false;\n",
        "        for i = (1:n)\n",
        "            if x[i] > 0\n",
        "                x[i] = 0;\n",
        "                for j = (1:n) \n",
        "                    if j != i && x[j] == 0\n",
        "                        x[j] = 1;\n",
        "                        z_lb_new = ldet_objval(A,x);\n",
        "                        if z_lb_new > z_lb\n",
        "                            leave_x = i;\n",
        "                            enter_x = j;\n",
        "                            z_lb = z_lb_new;\n",
        "                            flag = true; \n",
        "                        end\n",
        "                        x[j] = 0;\n",
        "                    end\n",
        "                end\n",
        "                if flag\n",
        "                    break \n",
        "                else\n",
        "                    x[i] = 1;\n",
        "                end\n",
        "            end\n",
        "        end\n",
        "        if flag\n",
        "            #x[leave_x] = 0;\n",
        "            x[enter_x] = 1;\n",
        "        end\n",
        "    end\n",
        "    return x,z_lb\n",
        "end\n",
        "\n",
        "function LSBI(A,n,x_init,z_lb) # Local Search First Improvement Plus\n",
        "    x = copy(x_init);\n",
        "    flag = true;\n",
        "    leave_x,enter_x = 0,0;\n",
        "    while flag\n",
        "        flag = false;\n",
        "        for i = (1:n)\n",
        "            if x[i] > 0\n",
        "                x[i] = 0;\n",
        "                for j = (1:n) \n",
        "                    if j != i && x[j] == 0\n",
        "                        x[j] = 1;\n",
        "                        z_lb_new = ldet_objval(A,x);\n",
        "                        if z_lb_new > z_lb\n",
        "                            leave_x = i;\n",
        "                            enter_x = j;\n",
        "                            z_lb = z_lb_new;\n",
        "                            flag = true; \n",
        "                        end\n",
        "                        x[j] = 0;\n",
        "                    end\n",
        "                end\n",
        "                x[i] = 1;\n",
        "            end\n",
        "        end\n",
        "        if flag\n",
        "            x[leave_x] = 0;\n",
        "            x[enter_x] = 1;\n",
        "        end\n",
        "    end\n",
        "    return x,z_lb\n",
        "end"
      ]
    },
    {
      "cell_type": "code",
      "execution_count": 87,
      "id": "843905ea",
      "metadata": {
        "colab": {
          "base_uri": "https://localhost:8080/"
        },
        "id": "843905ea",
        "outputId": "5b431b00-6d6a-401f-c844-45dfca672c50"
      },
      "outputs": [
        {
          "data": {
            "text/plain": [
              "runLocalSearch (generic function with 1 method)"
            ]
          },
          "execution_count": 87,
          "metadata": {},
          "output_type": "execute_result"
        }
      ],
      "source": [
        "function runLocalSearch(A,R,n,m,s)\n",
        "    # Initial solution\n",
        "    t_init_bin = @elapsed x_init_bin,z_init_bin = initBinary(A,R,s,m,n);\n",
        "    t_init_gdy = @elapsed x_init_gdy,z_init_gdy = initGreedy(A,R,s,m,n);\n",
        "    # Get initial results\n",
        "    X = [x_init_bin,x_init_gdy];\n",
        "    Z = [z_init_bin,z_init_gdy];\n",
        "    T = [t_init_bin,t_init_gdy];\n",
        "    # Heuristics\n",
        "    X_init = [x_init_bin,x_init_gdy];\n",
        "    for x_init in X_init\n",
        "        z_init = ldet_objval(A,x_init);\n",
        "        t_FI   = @elapsed x_FI, z_FI = LSFI(A,n,x_init,z_init);\n",
        "        println(\"LSFI: $(z_FI) Time: $(t_FI)\");# Solution: $(x_FI)\");\n",
        "        t_FP   = @elapsed x_FP, z_FP = LSFP(A,n,x_init,z_init);\n",
        "        println(\"LSFP: $(z_FP) Time: $(t_FP)\");# Solution: $(x_FP)\");\n",
        "        t_BI   = @elapsed x_BI, z_BI = LSBI(A,n,x_init,z_init);\n",
        "        println(\"LSBI: $(z_BI) Time: $(t_BI)\");# Solution: $(x_BI)\");\n",
        "        push!(X,x_FI,x_FP,x_BI);\n",
        "        push!(Z,z_FI,z_FP,z_BI);\n",
        "        push!(T,t_FI,t_FP,t_BI);\n",
        "    end\n",
        "    z_heur = maximum(Z);\n",
        "    indsX  = findall(Z .== z_heur); # we can receive more than one indice here\n",
        "    x_heur = X[indsX[1]];\n",
        "    # More informations\n",
        "    sum_x = [];\n",
        "    max_x = [];\n",
        "    for el in X\n",
        "        push!(sum_x,sum(el));\n",
        "        push!(max_x,maximum(el));\n",
        "    end\n",
        "    # All Informations\n",
        "    infos = (Z,T,sum_x,max_x,indsX);\n",
        "    return x_heur, z_heur,infos\n",
        "end"
      ]
    },
    {
      "cell_type": "markdown",
      "id": "52e1d755",
      "metadata": {
        "id": "52e1d755"
      },
      "source": [
        "# Run code"
      ]
    },
    {
      "cell_type": "code",
      "execution_count": 88,
      "id": "7d6679e9",
      "metadata": {
        "colab": {
          "base_uri": "https://localhost:8080/"
        },
        "id": "7d6679e9",
        "outputId": "5f0bc730-8058-4080-8b97-82edc3c22954"
      },
      "outputs": [
        {
          "data": {
            "text/plain": [
              "getMatlabInitialInfos (generic function with 1 method)"
            ]
          },
          "execution_count": 88,
          "metadata": {},
          "output_type": "execute_result"
        }
      ],
      "source": [
        "function getMatlabInitialInfos(n,i)\n",
        "    nameInst = string(\"Instance_\",n,\"_\",i);\n",
        "    A = getMatlabInstance(nameInst,\"A\");\n",
        "    R = trunc.(Int,getMatlabInstance(nameInst,\"R\"));\n",
        "    s = trunc(Int,n/2);\n",
        "    m = trunc(Int,n/4);\n",
        "    return A,R,m,s\n",
        "end"
      ]
    },
    {
      "cell_type": "code",
      "execution_count": 89,
      "id": "c7cc5161",
      "metadata": {
        "colab": {
          "base_uri": "https://localhost:8080/"
        },
        "id": "c7cc5161",
        "outputId": "229a6269-e50b-4476-a1f8-bcffdbdffda7"
      },
      "outputs": [
        {
          "data": {
            "text/plain": [
              "writeAllInfos (generic function with 1 method)"
            ]
          },
          "execution_count": 89,
          "metadata": {},
          "output_type": "execute_result"
        }
      ],
      "source": [
        "function writeAllInfos(Results,InfoLS,info_ls,results)\n",
        "    if !isdir(\"ResultsCSV\")\n",
        "        mkdir(\"ResultsCSV\")\n",
        "    end\n",
        "    # File name\n",
        "    resultsstr = string(\"ResultsCSV/results.csv\");\n",
        "    zLSstr     = string(\"ResultsCSV/zLS.csv\");\n",
        "    tLSstr     = string(\"ResultsCSV/tLS.csv\");\n",
        "    sum_str    = string(\"ResultsCSV/sumLS.csv\");\n",
        "    max_str    = string(\"ResultsCSV/maxLS.csv\");\n",
        "    # Get infos\n",
        "    z       = info_ls[1];\n",
        "    t       = info_ls[2];\n",
        "    sum_x   = info_ls[3];\n",
        "    max_x   = info_ls[4];\n",
        "    # push new informations\n",
        "    push!(Results,results);\n",
        "    push!(InfoLS[1],z);\n",
        "    push!(InfoLS[2],t);\n",
        "    push!(InfoLS[3],sum_x);\n",
        "    push!(InfoLS[4],max_x);\n",
        "    # save results\n",
        "    writedlm(resultsstr,  Results, ',')\n",
        "    writedlm(zLSstr,InfoLS[1], ',');\n",
        "    writedlm(tLSstr,InfoLS[2], ',');\n",
        "    writedlm(sum_str,InfoLS[3], ',');\n",
        "    writedlm(max_str,InfoLS[4], ',');\n",
        "    return Results,InfoLS\n",
        "end"
      ]
    },
    {
      "cell_type": "code",
      "execution_count": 90,
      "id": "264bfec8",
      "metadata": {
        "colab": {
          "base_uri": "https://localhost:8080/"
        },
        "id": "264bfec8",
        "outputId": "b594d71a-429b-4a1b-9c16-72ea7d5da371"
      },
      "outputs": [
        {
          "data": {
            "text/plain": [
              "saveFiles (generic function with 2 methods)"
            ]
          },
          "execution_count": 90,
          "metadata": {},
          "output_type": "execute_result"
        }
      ],
      "source": [
        "function saveFiles(n,i,x_ls)\n",
        "    x_ls_name   = string(\"x_ls_\",n,\"_\",i);\n",
        "    saveMatlabInstance(x_ls_name,\"x_ls\",x_ls);\n",
        "    return\n",
        "end"
      ]
    },
    {
      "cell_type": "code",
      "execution_count": 91,
      "id": "jdXfpWuk_tbU",
      "metadata": {
        "colab": {
          "base_uri": "https://localhost:8080/"
        },
        "id": "jdXfpWuk_tbU",
        "outputId": "48486984-cb14-4b7f-d038-bbcac653d199"
      },
      "outputs": [
        {
          "data": {
            "text/plain": [
              "\"/content\""
            ]
          },
          "execution_count": 91,
          "metadata": {},
          "output_type": "execute_result"
        }
      ],
      "source": [
        "pwd()"
      ]
    },
    {
      "cell_type": "code",
      "execution_count": 92,
      "id": "qwTYXM0h_vFH",
      "metadata": {
        "colab": {
          "base_uri": "https://localhost:8080/"
        },
        "id": "qwTYXM0h_vFH",
        "outputId": "1ab6ab6a-815b-4c84-d1b9-2d68cb84043c"
      },
      "outputs": [
        {
          "data": {
            "text/plain": [
              "8-element Vector{String}:\n",
              " \".\\\\ResultsInstances\"\n",
              " \".\\\\ResultsInstances\\\\x_ls_250.mat\"\n",
              " \".config\"\n",
              " \".ipynb_checkpoints\"\n",
              " \"Instance_250_dense.mat\"\n",
              " \"Instance_250_sparse.mat\"\n",
              " \"_ResultsCSV\"\n",
              " \"sample_data\""
            ]
          },
          "execution_count": 92,
          "metadata": {},
          "output_type": "execute_result"
        }
      ],
      "source": [
        "readdir()"
      ]
    },
    {
      "cell_type": "code",
      "execution_count": 93,
      "id": "EJ8F5zNA0oBU",
      "metadata": {
        "id": "EJ8F5zNA0oBU"
      },
      "outputs": [],
      "source": [
        "using Dates"
      ]
    },
    {
      "cell_type": "code",
      "execution_count": 94,
      "id": "c-O7n5mq0n5h",
      "metadata": {
        "colab": {
          "base_uri": "https://localhost:8080/"
        },
        "id": "c-O7n5mq0n5h",
        "outputId": "48254218-f969-47b7-fd8b-0c648dc7ae20"
      },
      "outputs": [
        {
          "data": {
            "text/plain": [
              "2022-12-24T18:14:46.741"
            ]
          },
          "execution_count": 94,
          "metadata": {},
          "output_type": "execute_result"
        }
      ],
      "source": [
        "now()"
      ]
    },
    {
      "cell_type": "code",
      "execution_count": 97,
      "id": "16d8ebe0",
      "metadata": {
        "colab": {
          "base_uri": "https://localhost:8080/"
        },
        "id": "16d8ebe0",
        "outputId": "c2617d72-edfd-4d5b-d986-6dbdc7e4684b",
        "scrolled": true
      },
      "outputs": [
        {
          "name": "stdout",
          "output_type": "stream",
          "text": [
            "2022-12-24T18:15:05.382\n",
            "LSFI: 249.72454326276616 Time: 296.311053948\n",
            "LSFP: 249.74645879263633 Time: 372.582533748\n",
            "LSBI: 249.74645879263633 Time: 836.123767002\n",
            "LSFI: 249.73568129052666 Time: 501.12551052\n",
            "LSFP: 249.73568129052666 Time: 445.386692025\n",
            "LSBI: 249.7330140509374 Time: 830.261731261\n",
            "250, dense: Finished LS 249.74645879263633 with 3282.276662195 sec\n",
            "LSFI: 19.106746218102483 Time: 217.073843994\n",
            "LSFP: 19.106746218102483 Time: 175.504449322\n",
            "LSBI: 19.106746218102483 Time: 671.982092724\n",
            "LSFI: 19.106746218102483 Time: 309.477909886\n",
            "LSFP: 19.106746218102483 Time: 249.052866989\n",
            "LSBI: 19.106746218102483 Time: 420.072959743\n",
            "250, sparse: Finished LS 19.106746218102483 with 2043.176871386 sec\n",
            "2022-12-24T19:43:51.113\n"
          ]
        }
      ],
      "source": [
        "Results = [];\n",
        "InfoLS  = [[],[],[],[]];\n",
        "InfoLS_old  = [[],[],[],[]];\n",
        "my_N = [250];\n",
        "#instances = [\"Instance_250_s\", \"Instance_250_d\"]\n",
        "instType = [\"dense\", \"sparse\"]\n",
        "\n",
        "println(now())\n",
        "for n in my_N\n",
        "    for i in instType\n",
        "        #A,R,m,s = getMatlabInitialInfos(n,i);\n",
        "        nameInst = string(\"Instance_\", n, \"_\", i);\n",
        "        A = getMatlabInstance(nameInst,\"A\");\n",
        "        R = trunc.(Int,getMatlabInstance(nameInst,\"R\"));\n",
        "        s = 150;\n",
        "        m = 50;\n",
        "        \n",
        "        #start_time = get_time_in_ms()\n",
        "        time_ls = @elapsed x_ls, z_ls,info_ls = runLocalSearch(A,R,n,m,s);\n",
        "        println(\"$(n), $(i): Finished LS $(z_ls) with $(time_ls) sec\")\n",
        "        flush(stdout); # show println\n",
        "        results  = [n,m,s,i,z_ls,time_ls];\n",
        "        Results,InfoLS = writeAllInfos(Results,InfoLS,info_ls,results);\n",
        "        saveFiles(n,i,x_ls)\n",
        "    end\n",
        "end\n",
        "println(now())"
      ]
    },
    {
      "cell_type": "code",
      "execution_count": 96,
      "id": "22679338-ae9e-460e-b779-b85339e6850f",
      "metadata": {
        "id": "22679338-ae9e-460e-b779-b85339e6850f"
      },
      "outputs": [],
      "source": []
    },
    {
      "cell_type": "code",
      "execution_count": 17,
      "id": "ysKScxyH_YRg",
      "metadata": {
        "id": "ysKScxyH_YRg"
      },
      "outputs": [],
      "source": []
    },
    {
      "cell_type": "code",
      "execution_count": null,
      "id": "aMTrkL3d_a3h",
      "metadata": {
        "id": "aMTrkL3d_a3h"
      },
      "outputs": [],
      "source": []
    }
  ],
  "metadata": {
    "colab": {
      "provenance": []
    },
    "gpuClass": "standard",
    "kernelspec": {
      "display_name": "Julia 1.6.1",
      "language": "julia",
      "name": "julia-1.6"
    },
    "language_info": {
      "file_extension": ".jl",
      "mimetype": "application/julia",
      "name": "julia",
      "version": "1.7.3"
    },
    "latex_envs": {
      "LaTeX_envs_menu_present": true,
      "autoclose": false,
      "autocomplete": true,
      "bibliofile": "biblio.bib",
      "cite_by": "apalike",
      "current_citInitial": 1,
      "eqLabelWithNumbers": true,
      "eqNumInitial": 1,
      "hotkeys": {
        "equation": "Ctrl-E",
        "itemize": "Ctrl-I"
      },
      "labels_anchors": false,
      "latex_user_defs": false,
      "report_style_numbering": false,
      "user_envs_cfg": false
    },
    "toc": {
      "base_numbering": 1,
      "nav_menu": {},
      "number_sections": true,
      "sideBar": true,
      "skip_h1_title": false,
      "title_cell": "Table of Contents",
      "title_sidebar": "Contents",
      "toc_cell": false,
      "toc_position": {
        "height": "calc(100% - 180px)",
        "left": "10px",
        "top": "150px",
        "width": "165px"
      },
      "toc_section_display": true,
      "toc_window_display": true
    }
  },
  "nbformat": 4,
  "nbformat_minor": 5
}
