{
 "cells": [
  {
   "cell_type": "markdown",
   "id": "cb0ebe2a",
   "metadata": {},
   "source": [
    "# Import packages"
   ]
  },
  {
   "cell_type": "markdown",
   "id": "8021b8ab",
   "metadata": {},
   "source": [
    "# Auxiliary Functions"
   ]
  },
  {
   "cell_type": "code",
   "execution_count": 1,
   "id": "bedd871e",
   "metadata": {},
   "outputs": [],
   "source": [
    "import numpy as np\n",
    "from copy import deepcopy\n",
    "from scipy.io import loadmat\n",
    "import os\n",
    "import time"
   ]
  },
  {
   "cell_type": "code",
   "execution_count": 2,
   "id": "5e6d87d3",
   "metadata": {},
   "outputs": [],
   "source": [
    "def ldet(A):\n",
    "    sign, value = np.linalg.slogdet(A)\n",
    "    if sign > 0:\n",
    "        return value\n",
    "    else:\n",
    "        return -np.inf\n",
    "def ldet_objval(A,x):\n",
    "    return ldet(np.dot(np.dot(A.T, np.diag(x.T[0])), A))"
   ]
  },
  {
   "cell_type": "code",
   "execution_count": 3,
   "id": "757f1851",
   "metadata": {},
   "outputs": [],
   "source": [
    "def init_binary(A,R,s,m,n):\n",
    "    U, S, VH = np.linalg.svd(A, full_matrices=True)\n",
    "    x = np.zeros((n,1))\n",
    "    for j in range(n):\n",
    "        for i in range(s):\n",
    "            x[j] += (U[j,i]**2)\n",
    "    x_save = deepcopy(x)\n",
    "    x = np.zeros((n,1))\n",
    "    for row in R:\n",
    "        x[row-1] = 1\n",
    "        x_save[row-1] = 0\n",
    "\n",
    "    for i in range(s-m):\n",
    "        max_indice = np.argmax(x_save)\n",
    "        x[max_indice] = 1\n",
    "        x_save[max_indice] = 0\n",
    "    zlb = ldet_objval(A, x)\n",
    "    xlb = x\n",
    "    return xlb, zlb\n",
    "\n",
    "def init_greedy(A,R,s,m,n):\n",
    "    U, S, VH = np.linalg.svd(A, full_matrices=True)\n",
    "    x = np.zeros((n,1))\n",
    "    k = min(s,m)\n",
    "    for j in range(n):\n",
    "        for i in range(k):\n",
    "            x[j] += (S[i] * U[j,i]**2)\n",
    "    x_save = deepcopy(x)\n",
    "    x = np.zeros((n,1))\n",
    "    for row in R:\n",
    "        x[row-1] = 1\n",
    "        x_save[row-1] = 0\n",
    "\n",
    "    for i in range(s-m):\n",
    "        max_indice = np.argmax(x_save)\n",
    "        x[max_indice] = 1\n",
    "        x_save[max_indice] = 0\n",
    "\n",
    "    zlb = ldet_objval(A, x)\n",
    "    xlb = x\n",
    "    return xlb, zlb"
   ]
  },
  {
   "cell_type": "code",
   "execution_count": 4,
   "id": "83945615",
   "metadata": {},
   "outputs": [],
   "source": [
    "def LSFI(A,n,x_init,z_lb): # Local Search First Improvement\n",
    "    x = deepcopy(x_init)\n",
    "    flag = True\n",
    "    while flag:\n",
    "        flag = False\n",
    "        for i in range(n):\n",
    "            if x[i] > 0:\n",
    "                x[i] = 0\n",
    "                for j in range(n):\n",
    "                    if j != i and x[j] == 0:\n",
    "                        x[j] = 1\n",
    "                        z_lb_new = ldet_objval(A, x)\n",
    "                        if z_lb_new > z_lb:\n",
    "                            z_lb = z_lb_new\n",
    "                            flag = True\n",
    "                            break\n",
    "                        else:\n",
    "                            x[j] = 0\n",
    "                if flag:\n",
    "                    break\n",
    "                else:\n",
    "                    x[i] = 1\n",
    "    return x, z_lb\n",
    "\n",
    "def LSFP(A,n,x_init,z_lb): # Local Search First Improvement Plus\n",
    "    x = deepcopy(x_init)\n",
    "    flag = True\n",
    "    leave_x, enter_x = 0, 0\n",
    "    while flag:\n",
    "        flag = False\n",
    "        for i in range(n):\n",
    "            if x[i] > 0:\n",
    "                x[i] = 0\n",
    "                for j in range(n):\n",
    "                    if j != i and x[j] == 0:\n",
    "                        x[j] = 1\n",
    "                        z_lb_new = ldet_objval(A, x)\n",
    "                        if z_lb_new > z_lb:\n",
    "                            leave_x, enter_x = i, j\n",
    "                            z_lb = z_lb_new\n",
    "                            flag = True\n",
    "                        x[j] = 0\n",
    "                if flag:\n",
    "                    break\n",
    "                else:\n",
    "                    x[i] = 1\n",
    "        if flag:\n",
    "            # x[leave_x] = 0\n",
    "            x[enter_x] = 1\n",
    "    return x, z_lb\n",
    "\n",
    "def LSBI(A,n,x_init,z_lb): # Local Search Best Improvement\n",
    "    x = deepcopy(x_init)\n",
    "    flag = True\n",
    "    leave_x, enter_x = 0, 0\n",
    "    while flag:\n",
    "        flag = False\n",
    "        for i in range(n):\n",
    "            if x[i] > 0:\n",
    "                x[i] = 0\n",
    "                for j in range(n):\n",
    "                    if j != i and x[j] == 0:\n",
    "                        x[j] = 1\n",
    "                        z_lb_new = ldet_objval(A, x)\n",
    "                        if z_lb_new > z_lb:\n",
    "                            leave_x, enter_x = i, j\n",
    "                            z_lb = z_lb_new\n",
    "                            flag = True\n",
    "                        x[j] = 0\n",
    "                x[i] = 1\n",
    "        if flag:\n",
    "            x[leave_x] = 0\n",
    "            x[enter_x] = 1\n",
    "    return x, z_lb\n"
   ]
  },
  {
   "cell_type": "code",
   "execution_count": 5,
   "id": "9dd947b2",
   "metadata": {},
   "outputs": [],
   "source": [
    "def run_local_search(A, R, n, m, s):\n",
    "    x_init_bin, z_init_bin = init_binary(A, R, s, m, n)\n",
    "    x_init_gre, z_init_gre = init_greedy(A, R, s, m, n)\n",
    "    X = [x_init_bin, x_init_gre]\n",
    "    Z = [z_init_bin, z_init_gre]\n",
    "\n",
    "    X_init = [x_init_bin, x_init_gre]\n",
    "    for x_init in X_init:\n",
    "        x, z = LSFI(A, n, x_init, z_init_bin)\n",
    "        X.append(x)\n",
    "        Z.append(z)\n",
    "        x, z = LSFP(A, n, x_init, z_init_bin)\n",
    "        X.append(x)\n",
    "        Z.append(z)\n",
    "        x, z = LSBI(A, n, x_init, z_init_bin)\n",
    "        X.append(x)\n",
    "        Z.append(z)\n",
    "    z_heur = np.max(Z)\n",
    "    indsX = np.where(Z == z_heur)[0]\n",
    "    x_heur = X[indsX[0]]\n",
    "\n",
    "    sum_x = []\n",
    "    max_x = []\n",
    "    for x in X:\n",
    "        sum_x.append(np.sum(x))\n",
    "        max_x.append(np.max(x))\n",
    "    return x_heur, z_heur, (X, Z, sum_x, max_x, indsX)    "
   ]
  },
  {
   "cell_type": "code",
   "execution_count": 6,
   "id": "b4ca6308",
   "metadata": {},
   "outputs": [
    {
     "name": "stdout",
     "output_type": "stream",
     "text": [
      "['Instance_40_1', 'Instance_40_2', 'Instance_40_3', 'Instance_60_1', 'Instance_60_2', 'Instance_60_3', 'Instance_80_1', 'Instance_80_2', 'Instance_80_3', 'Instance_100_1', 'Instance_100_2', 'Instance_100_3', 'Instance_140_1', 'Instance_140_2', 'Instance_140_3', 'Instance_180_1', 'Instance_180_2', 'Instance_180_3', 'Instance_200_1', 'Instance_200_2', 'Instance_200_3', 'Instance_240_1', 'Instance_240_2', 'Instance_240_3', 'Instance_280_1', 'Instance_280_2', 'Instance_280_3', 'Instance_300_1', 'Instance_300_2', 'Instance_300_3']\n"
     ]
    }
   ],
   "source": [
    "instances = [f\"Instance_{n}_{i}\" for n in [40,60,80,100,140,180,200,240,280,300] for i in range(1,4)]\n",
    "print(instances)"
   ]
  },
  {
   "cell_type": "code",
   "execution_count": 7,
   "id": "388d9fcd",
   "metadata": {},
   "outputs": [
    {
     "name": "stdout",
     "output_type": "stream",
     "text": [
      "Finished LS Instance_40_1 - Result: -1.5538065375157495 - Time: 0.2944192886352539\n",
      "Finished LS Instance_40_2 - Result: -0.7013141749532328 - Time: 0.5663864612579346\n",
      "Finished LS Instance_40_3 - Result: -1.417194747674704 - Time: 0.5181467533111572\n",
      "Finished LS Instance_60_1 - Result: -1.7811835092404427 - Time: 2.9590516090393066\n",
      "Finished LS Instance_60_2 - Result: -2.3348248346041665 - Time: 2.4358508586883545\n",
      "Finished LS Instance_60_3 - Result: -1.40011221194216 - Time: 1.0760705471038818\n",
      "Finished LS Instance_80_1 - Result: -2.7777165416793443 - Time: 5.3426127433776855\n",
      "Finished LS Instance_80_2 - Result: -2.426260131985708 - Time: 3.5354864597320557\n",
      "Finished LS Instance_80_3 - Result: -2.4546132059018886 - Time: 5.699881315231323\n",
      "Finished LS Instance_100_1 - Result: -2.502724115620391 - Time: 4.8072004318237305\n",
      "Finished LS Instance_100_2 - Result: -2.874370133356307 - Time: 6.26811408996582\n",
      "Finished LS Instance_100_3 - Result: -2.6437356608557825 - Time: 10.164443254470825\n",
      "Finished LS Instance_140_1 - Result: -3.1835704632272566 - Time: 96.26704549789429\n",
      "Finished LS Instance_140_2 - Result: -3.0002132849975394 - Time: 224.52504706382751\n",
      "Finished LS Instance_140_3 - Result: -1.5517976690696946 - Time: 219.0893964767456\n",
      "Finished LS Instance_180_1 - Result: -2.187354972285906 - Time: 352.3184144496918\n",
      "Finished LS Instance_180_2 - Result: -1.6347818420276536 - Time: 363.0698416233063\n",
      "Finished LS Instance_180_3 - Result: -1.700487947360421 - Time: 310.8377287387848\n",
      "Finished LS Instance_200_1 - Result: -1.8772262335782428 - Time: 542.2213780879974\n",
      "Finished LS Instance_200_2 - Result: -1.292340753455135 - Time: 537.29638504982\n",
      "Finished LS Instance_200_3 - Result: -1.5037500494150184 - Time: 604.0306873321533\n",
      "Finished LS Instance_240_1 - Result: -0.4699185897377617 - Time: 2280.7041285037994\n",
      "Finished LS Instance_240_2 - Result: -0.7162398168555276 - Time: 10346.060998678207\n",
      "Finished LS Instance_240_3 - Result: -0.8252977732984188 - Time: 842.4468047618866\n",
      "Finished LS Instance_280_1 - Result: 1.158442497549265 - Time: 2075.5116851329803\n",
      "Finished LS Instance_280_2 - Result: 1.1929173548780816 - Time: 1967.1507098674774\n",
      "Finished LS Instance_280_3 - Result: 0.6860816945396581 - Time: 1651.7104260921478\n"
     ]
    },
    {
     "ename": "KeyboardInterrupt",
     "evalue": "",
     "output_type": "error",
     "traceback": [
      "\u001b[1;31m---------------------------------------------------------------------------\u001b[0m",
      "\u001b[1;31mKeyboardInterrupt\u001b[0m                         Traceback (most recent call last)",
      "\u001b[1;32mc:\\Users\\arthu\\source\\repos\\trabmh\\D-Opt-files\\Julia code\\d_opt_python.ipynb Cell 9\u001b[0m in \u001b[0;36m<cell line: 1>\u001b[1;34m()\u001b[0m\n\u001b[0;32m      <a href='vscode-notebook-cell:/c%3A/Users/arthu/source/repos/trabmh/D-Opt-files/Julia%20code/d_opt_python.ipynb#X11sZmlsZQ%3D%3D?line=6'>7</a>\u001b[0m R \u001b[39m=\u001b[39m instance[\u001b[39m'\u001b[39m\u001b[39mR\u001b[39m\u001b[39m'\u001b[39m]\n\u001b[0;32m      <a href='vscode-notebook-cell:/c%3A/Users/arthu/source/repos/trabmh/D-Opt-files/Julia%20code/d_opt_python.ipynb#X11sZmlsZQ%3D%3D?line=7'>8</a>\u001b[0m time_ini \u001b[39m=\u001b[39m time\u001b[39m.\u001b[39mtime()\n\u001b[1;32m----> <a href='vscode-notebook-cell:/c%3A/Users/arthu/source/repos/trabmh/D-Opt-files/Julia%20code/d_opt_python.ipynb#X11sZmlsZQ%3D%3D?line=8'>9</a>\u001b[0m x_ls, z_ls, info_ls \u001b[39m=\u001b[39m run_local_search(A, R, n, m, s)\n\u001b[0;32m     <a href='vscode-notebook-cell:/c%3A/Users/arthu/source/repos/trabmh/D-Opt-files/Julia%20code/d_opt_python.ipynb#X11sZmlsZQ%3D%3D?line=9'>10</a>\u001b[0m time_end \u001b[39m=\u001b[39m time\u001b[39m.\u001b[39mtime()\n\u001b[0;32m     <a href='vscode-notebook-cell:/c%3A/Users/arthu/source/repos/trabmh/D-Opt-files/Julia%20code/d_opt_python.ipynb#X11sZmlsZQ%3D%3D?line=10'>11</a>\u001b[0m \u001b[39mprint\u001b[39m(\u001b[39mf\u001b[39m\u001b[39m\"\u001b[39m\u001b[39mFinished LS \u001b[39m\u001b[39m{\u001b[39;00minstance_name\u001b[39m}\u001b[39;00m\u001b[39m - Result: \u001b[39m\u001b[39m{\u001b[39;00mz_ls\u001b[39m}\u001b[39;00m\u001b[39m - Time: \u001b[39m\u001b[39m{\u001b[39;00mtime_end \u001b[39m-\u001b[39m time_ini\u001b[39m}\u001b[39;00m\u001b[39m\"\u001b[39m)\n",
      "\u001b[1;32mc:\\Users\\arthu\\source\\repos\\trabmh\\D-Opt-files\\Julia code\\d_opt_python.ipynb Cell 9\u001b[0m in \u001b[0;36mrun_local_search\u001b[1;34m(A, R, n, m, s)\u001b[0m\n\u001b[0;32m      <a href='vscode-notebook-cell:/c%3A/Users/arthu/source/repos/trabmh/D-Opt-files/Julia%20code/d_opt_python.ipynb#X11sZmlsZQ%3D%3D?line=6'>7</a>\u001b[0m X_init \u001b[39m=\u001b[39m [x_init_bin, x_init_gre]\n\u001b[0;32m      <a href='vscode-notebook-cell:/c%3A/Users/arthu/source/repos/trabmh/D-Opt-files/Julia%20code/d_opt_python.ipynb#X11sZmlsZQ%3D%3D?line=7'>8</a>\u001b[0m \u001b[39mfor\u001b[39;00m x_init \u001b[39min\u001b[39;00m X_init:\n\u001b[1;32m----> <a href='vscode-notebook-cell:/c%3A/Users/arthu/source/repos/trabmh/D-Opt-files/Julia%20code/d_opt_python.ipynb#X11sZmlsZQ%3D%3D?line=8'>9</a>\u001b[0m     x, z \u001b[39m=\u001b[39m LSFI(A, n, x_init, z_init_bin)\n\u001b[0;32m     <a href='vscode-notebook-cell:/c%3A/Users/arthu/source/repos/trabmh/D-Opt-files/Julia%20code/d_opt_python.ipynb#X11sZmlsZQ%3D%3D?line=9'>10</a>\u001b[0m     X\u001b[39m.\u001b[39mappend(x)\n\u001b[0;32m     <a href='vscode-notebook-cell:/c%3A/Users/arthu/source/repos/trabmh/D-Opt-files/Julia%20code/d_opt_python.ipynb#X11sZmlsZQ%3D%3D?line=10'>11</a>\u001b[0m     Z\u001b[39m.\u001b[39mappend(z)\n",
      "\u001b[1;32mc:\\Users\\arthu\\source\\repos\\trabmh\\D-Opt-files\\Julia code\\d_opt_python.ipynb Cell 9\u001b[0m in \u001b[0;36mLSFI\u001b[1;34m(A, n, x_init, z_lb)\u001b[0m\n\u001b[0;32m     <a href='vscode-notebook-cell:/c%3A/Users/arthu/source/repos/trabmh/D-Opt-files/Julia%20code/d_opt_python.ipynb#X11sZmlsZQ%3D%3D?line=9'>10</a>\u001b[0m \u001b[39mif\u001b[39;00m j \u001b[39m!=\u001b[39m i \u001b[39mand\u001b[39;00m x[j] \u001b[39m==\u001b[39m \u001b[39m0\u001b[39m:\n\u001b[0;32m     <a href='vscode-notebook-cell:/c%3A/Users/arthu/source/repos/trabmh/D-Opt-files/Julia%20code/d_opt_python.ipynb#X11sZmlsZQ%3D%3D?line=10'>11</a>\u001b[0m     x[j] \u001b[39m=\u001b[39m \u001b[39m1\u001b[39m\n\u001b[1;32m---> <a href='vscode-notebook-cell:/c%3A/Users/arthu/source/repos/trabmh/D-Opt-files/Julia%20code/d_opt_python.ipynb#X11sZmlsZQ%3D%3D?line=11'>12</a>\u001b[0m     z_lb_new \u001b[39m=\u001b[39m ldet_objval(A, x)\n\u001b[0;32m     <a href='vscode-notebook-cell:/c%3A/Users/arthu/source/repos/trabmh/D-Opt-files/Julia%20code/d_opt_python.ipynb#X11sZmlsZQ%3D%3D?line=12'>13</a>\u001b[0m     \u001b[39mif\u001b[39;00m z_lb_new \u001b[39m>\u001b[39m z_lb:\n\u001b[0;32m     <a href='vscode-notebook-cell:/c%3A/Users/arthu/source/repos/trabmh/D-Opt-files/Julia%20code/d_opt_python.ipynb#X11sZmlsZQ%3D%3D?line=13'>14</a>\u001b[0m         z_lb \u001b[39m=\u001b[39m z_lb_new\n",
      "\u001b[1;32mc:\\Users\\arthu\\source\\repos\\trabmh\\D-Opt-files\\Julia code\\d_opt_python.ipynb Cell 9\u001b[0m in \u001b[0;36mldet_objval\u001b[1;34m(A, x)\u001b[0m\n\u001b[0;32m      <a href='vscode-notebook-cell:/c%3A/Users/arthu/source/repos/trabmh/D-Opt-files/Julia%20code/d_opt_python.ipynb#X11sZmlsZQ%3D%3D?line=6'>7</a>\u001b[0m \u001b[39mdef\u001b[39;00m \u001b[39mldet_objval\u001b[39m(A,x):\n\u001b[1;32m----> <a href='vscode-notebook-cell:/c%3A/Users/arthu/source/repos/trabmh/D-Opt-files/Julia%20code/d_opt_python.ipynb#X11sZmlsZQ%3D%3D?line=7'>8</a>\u001b[0m     \u001b[39mreturn\u001b[39;00m ldet(np\u001b[39m.\u001b[39mdot(np\u001b[39m.\u001b[39mdot(A\u001b[39m.\u001b[39mT, np\u001b[39m.\u001b[39;49mdiag(x\u001b[39m.\u001b[39;49mT[\u001b[39m0\u001b[39;49m])), A))\n",
      "File \u001b[1;32m<__array_function__ internals>:180\u001b[0m, in \u001b[0;36mdiag\u001b[1;34m(*args, **kwargs)\u001b[0m\n",
      "File \u001b[1;32mc:\\Users\\arthu\\AppData\\Local\\Programs\\Python\\Python39\\lib\\site-packages\\numpy\\lib\\twodim_base.py:299\u001b[0m, in \u001b[0;36mdiag\u001b[1;34m(v, k)\u001b[0m\n\u001b[0;32m    297\u001b[0m \u001b[39mif\u001b[39;00m \u001b[39mlen\u001b[39m(s) \u001b[39m==\u001b[39m \u001b[39m1\u001b[39m:\n\u001b[0;32m    298\u001b[0m     n \u001b[39m=\u001b[39m s[\u001b[39m0\u001b[39m]\u001b[39m+\u001b[39m\u001b[39mabs\u001b[39m(k)\n\u001b[1;32m--> 299\u001b[0m     res \u001b[39m=\u001b[39m zeros((n, n), v\u001b[39m.\u001b[39;49mdtype)\n\u001b[0;32m    300\u001b[0m     \u001b[39mif\u001b[39;00m k \u001b[39m>\u001b[39m\u001b[39m=\u001b[39m \u001b[39m0\u001b[39m:\n\u001b[0;32m    301\u001b[0m         i \u001b[39m=\u001b[39m k\n",
      "\u001b[1;31mKeyboardInterrupt\u001b[0m: "
     ]
    }
   ],
   "source": [
    "for instance_name in instances:\n",
    "        instance = loadmat(os.path.join('../instances', instance_name))\n",
    "        A = instance[\"A\"]\n",
    "        n = A.shape[0]\n",
    "        m = A.shape[1]\n",
    "        s = int(n/2)\n",
    "        R = instance['R']\n",
    "        time_ini = time.time()\n",
    "        x_ls, z_ls, info_ls = run_local_search(A, R, n, m, s)\n",
    "        time_end = time.time()\n",
    "        print(f\"Finished LS {instance_name} - Result: {z_ls} - Time: {time_end - time_ini}\")"
   ]
  }
 ],
 "metadata": {
  "kernelspec": {
   "display_name": "Python 3",
   "language": "python",
   "name": "python3"
  },
  "language_info": {
   "codemirror_mode": {
    "name": "ipython",
    "version": 3
   },
   "file_extension": ".py",
   "mimetype": "text/x-python",
   "name": "python",
   "nbconvert_exporter": "python",
   "pygments_lexer": "ipython3",
   "version": "3.9.13"
  },
  "latex_envs": {
   "LaTeX_envs_menu_present": true,
   "autoclose": false,
   "autocomplete": true,
   "bibliofile": "biblio.bib",
   "cite_by": "apalike",
   "current_citInitial": 1,
   "eqLabelWithNumbers": true,
   "eqNumInitial": 1,
   "hotkeys": {
    "equation": "Ctrl-E",
    "itemize": "Ctrl-I"
   },
   "labels_anchors": false,
   "latex_user_defs": false,
   "report_style_numbering": false,
   "user_envs_cfg": false
  },
  "toc": {
   "base_numbering": 1,
   "nav_menu": {},
   "number_sections": true,
   "sideBar": true,
   "skip_h1_title": false,
   "title_cell": "Table of Contents",
   "title_sidebar": "Contents",
   "toc_cell": false,
   "toc_position": {
    "height": "calc(100% - 180px)",
    "left": "10px",
    "top": "150px",
    "width": "165px"
   },
   "toc_section_display": true,
   "toc_window_display": true
  },
  "vscode": {
   "interpreter": {
    "hash": "53ca681ee8de3b54bf163d1b625454d8007d7c8aeafa791857ff706faaf06eee"
   }
  }
 },
 "nbformat": 4,
 "nbformat_minor": 5
}
