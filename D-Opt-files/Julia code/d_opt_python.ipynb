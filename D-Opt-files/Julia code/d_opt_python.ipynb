{
 "cells": [
  {
   "cell_type": "markdown",
   "id": "cb0ebe2a",
   "metadata": {},
   "source": [
    "# Import packages"
   ]
  },
  {
   "cell_type": "markdown",
   "id": "8021b8ab",
   "metadata": {},
   "source": [
    "# Auxiliary Functions"
   ]
  },
  {
   "cell_type": "code",
   "execution_count": 146,
   "id": "bedd871e",
   "metadata": {},
   "outputs": [],
   "source": [
    "import numpy as np\n",
    "from copy import deepcopy\n",
    "from scipy.io import loadmat\n",
    "import os\n",
    "import time"
   ]
  },
  {
   "cell_type": "code",
   "execution_count": 147,
   "id": "5e6d87d3",
   "metadata": {},
   "outputs": [],
   "source": [
    "def ldet(A):\n",
    "    sign, value = np.linalg.slogdet(A)\n",
    "    if sign > 0:\n",
    "        return value\n",
    "    else:\n",
    "        return -np.inf\n",
    "def ldet_objval(A,x):\n",
    "    return ldet(np.dot(np.dot(A.T, np.diag(x.T[0])), A))"
   ]
  },
  {
   "cell_type": "code",
   "execution_count": 148,
   "id": "757f1851",
   "metadata": {},
   "outputs": [],
   "source": [
    "def init_binary(A,R,s,m,n):\n",
    "    U, S, VH = np.linalg.svd(A, full_matrices=True)\n",
    "    x = np.zeros((n,1))\n",
    "    for j in range(n):\n",
    "        for i in range(s):\n",
    "            x[j] += (U[j,i]**2)\n",
    "    x_save = deepcopy(x)\n",
    "    x = np.zeros((n,1))\n",
    "    for row in R:\n",
    "        x[row] = 1\n",
    "        x_save[row] = 0\n",
    "\n",
    "    for i in range(s-m):\n",
    "        max_indice = np.argmax(x_save)\n",
    "        x[max_indice] = 1\n",
    "        x_save[max_indice] = 0\n",
    "    zlb = ldet_objval(A, x)\n",
    "    xlb = x\n",
    "    return xlb, zlb\n",
    "\n",
    "def init_greedy(A,R,s,m,n):\n",
    "    U, S, VH = np.linalg.svd(A, full_matrices=True)\n",
    "    x = np.zeros((n,1))\n",
    "    k = min(s,m)\n",
    "    for j in range(n):\n",
    "        for i in range(k):\n",
    "            x[j] += (S[i] * U[j,i]**2)\n",
    "    x_save = deepcopy(x)\n",
    "    x = np.zeros((n,1))\n",
    "    for row in R:\n",
    "        x[row] = 1\n",
    "        x_save[row] = 0\n",
    "\n",
    "    for i in range(s-m):\n",
    "        max_indice = np.argmax(x_save)\n",
    "        x[max_indice] = 1\n",
    "        x_save[max_indice] = 0\n",
    "\n",
    "    zlb = ldet_objval(A, x)\n",
    "    xlb = x\n",
    "    return xlb, zlb"
   ]
  },
  {
   "cell_type": "code",
   "execution_count": 149,
   "id": "83945615",
   "metadata": {},
   "outputs": [],
   "source": [
    "def LSFI(A,n,x_init,z_lb): # Local Search First Improvement\n",
    "    x = deepcopy(x_init)\n",
    "    flag = True\n",
    "    while flag:\n",
    "        flag = False\n",
    "        for i in range(n):\n",
    "            if x[i] > 0:\n",
    "                x[i] = 0\n",
    "                for j in range(n):\n",
    "                    if j != i and x[j] == 0:\n",
    "                        x[j] = 1\n",
    "                        z_lb_new = ldet_objval(A, x)\n",
    "                        if z_lb_new > z_lb:\n",
    "                            z_lb = z_lb_new\n",
    "                            flag = True\n",
    "                            break\n",
    "                        else:\n",
    "                            x[j] = 0\n",
    "                if flag:\n",
    "                    break\n",
    "                else:\n",
    "                    x[i] = 1\n",
    "    return x, z_lb\n",
    "\n",
    "def LSFP(A,n,x_init,z_lb): # Local Search First Improvement Plus\n",
    "    x = deepcopy(x_init)\n",
    "    flag = True\n",
    "    leave_x, enter_x = 0, 0\n",
    "    while flag:\n",
    "        flag = False\n",
    "        for i in range(n):\n",
    "            if x[i] > 0:\n",
    "                x[i] = 0\n",
    "                for j in range(n):\n",
    "                    if j != i and x[j] == 0:\n",
    "                        x[j] = 1\n",
    "                        z_lb_new = ldet_objval(A, x)\n",
    "                        if z_lb_new > z_lb:\n",
    "                            leave_x, enter_x = i, j\n",
    "                            z_lb = z_lb_new\n",
    "                            flag = True\n",
    "                        x[j] = 0\n",
    "                if flag:\n",
    "                    break\n",
    "                else:\n",
    "                    x[i] = 1\n",
    "        if flag:\n",
    "            # x[leave_x] = 0\n",
    "            x[enter_x] = 1\n",
    "    return x, z_lb\n",
    "\n",
    "def LSBI(A,n,x_init,z_lb): # Local Search Best Improvement\n",
    "    x = deepcopy(x_init)\n",
    "    flag = True\n",
    "    leave_x, enter_x = 0, 0\n",
    "    while flag:\n",
    "        flag = False\n",
    "        for i in range(n):\n",
    "            if x[i] > 0:\n",
    "                x[i] = 0\n",
    "                for j in range(n):\n",
    "                    if j != i and x[j] == 0:\n",
    "                        x[j] = 1\n",
    "                        z_lb_new = ldet_objval(A, x)\n",
    "                        if z_lb_new > z_lb:\n",
    "                            leave_x, enter_x = i, j\n",
    "                            z_lb = z_lb_new\n",
    "                            flag = True\n",
    "                        x[j] = 0\n",
    "                x[i] = 1\n",
    "        if flag:\n",
    "            x[leave_x] = 0\n",
    "            x[enter_x] = 1\n",
    "    return x, z_lb\n"
   ]
  },
  {
   "cell_type": "code",
   "execution_count": 150,
   "id": "9dd947b2",
   "metadata": {},
   "outputs": [],
   "source": [
    "def run_local_search(A, R, n, m, s):\n",
    "    x_init_bin, z_init_bin = init_binary(A, R, s, m, n)\n",
    "    x_init_gre, z_init_gre = init_greedy(A, R, s, m, n)\n",
    "    X = [x_init_bin, x_init_gre]\n",
    "    Z = [z_init_bin, z_init_gre]\n",
    "\n",
    "    X_init = [x_init_bin, x_init_gre]\n",
    "    for x_init in X_init:\n",
    "        x, z = LSFI(A, n, x_init, z_init_bin)\n",
    "        X.append(x)\n",
    "        Z.append(z)\n",
    "        x, z = LSFP(A, n, x_init, z_init_bin)\n",
    "        X.append(x)\n",
    "        Z.append(z)\n",
    "        x, z = LSBI(A, n, x_init, z_init_bin)\n",
    "        X.append(x)\n",
    "        Z.append(z)\n",
    "    z_heur = np.max(Z)\n",
    "    indsX = np.where(Z == z_heur)[0]\n",
    "    x_heur = X[indsX[0]]\n",
    "\n",
    "    sum_x = []\n",
    "    max_x = []\n",
    "    for x in X:\n",
    "        sum_x.append(np.sum(x))\n",
    "        max_x.append(np.max(x))\n",
    "    return x_heur, z_heur, (X, Z, sum_x, max_x, indsX)    "
   ]
  },
  {
   "cell_type": "code",
   "execution_count": 151,
   "id": "452ea5e8",
   "metadata": {},
   "outputs": [
    {
     "data": {
      "text/plain": [
       "array([[1, 0, 0],\n",
       "       [0, 2, 0],\n",
       "       [0, 0, 3]])"
      ]
     },
     "execution_count": 151,
     "metadata": {},
     "output_type": "execute_result"
    }
   ],
   "source": [
    "np.diag([1,2,3])"
   ]
  },
  {
   "cell_type": "code",
   "execution_count": 152,
   "id": "388d9fcd",
   "metadata": {},
   "outputs": [
    {
     "name": "stdout",
     "output_type": "stream",
     "text": [
      "Finished LS Instance_40_1.mat - Time: 0.41998839378356934 - Result: -1.5642270370493894\n",
      "Finished LS Instance_40_2.mat - Time: 0.42775416374206543 - Result: -0.7013141749532328\n",
      "Finished LS Instance_40_3.mat - Time: 0.24560928344726562 - Result: -1.4265686998844602\n"
     ]
    }
   ],
   "source": [
    "instances = ['Instance_40_1.mat', 'Instance_40_2.mat', 'Instance_40_3.mat']\n",
    "for instance_name in instances:\n",
    "        instance = loadmat(os.path.join('instances', instance_name))\n",
    "        A = instance[\"A\"]\n",
    "        n = A.shape[0]\n",
    "        m = A.shape[1]\n",
    "        s = int(n/2)\n",
    "        R = instance['R']\n",
    "        time_ini = time.time()\n",
    "        x_ls, z_ls, info_ls = run_local_search(A, R, n, m, s)\n",
    "        time_end = time.time()\n",
    "        print(f\"Finished LS {instance_name} - Time: {time_end - time_ini} - Result: {z_ls}\")"
   ]
  }
 ],
 "metadata": {
  "kernelspec": {
   "display_name": "Python 3",
   "language": "python",
   "name": "python3"
  },
  "language_info": {
   "codemirror_mode": {
    "name": "ipython",
    "version": 3
   },
   "file_extension": ".py",
   "mimetype": "text/x-python",
   "name": "python",
   "nbconvert_exporter": "python",
   "pygments_lexer": "ipython3",
   "version": "3.9.13 (tags/v3.9.13:6de2ca5, May 17 2022, 16:36:42) [MSC v.1929 64 bit (AMD64)]"
  },
  "latex_envs": {
   "LaTeX_envs_menu_present": true,
   "autoclose": false,
   "autocomplete": true,
   "bibliofile": "biblio.bib",
   "cite_by": "apalike",
   "current_citInitial": 1,
   "eqLabelWithNumbers": true,
   "eqNumInitial": 1,
   "hotkeys": {
    "equation": "Ctrl-E",
    "itemize": "Ctrl-I"
   },
   "labels_anchors": false,
   "latex_user_defs": false,
   "report_style_numbering": false,
   "user_envs_cfg": false
  },
  "toc": {
   "base_numbering": 1,
   "nav_menu": {},
   "number_sections": true,
   "sideBar": true,
   "skip_h1_title": false,
   "title_cell": "Table of Contents",
   "title_sidebar": "Contents",
   "toc_cell": false,
   "toc_position": {
    "height": "calc(100% - 180px)",
    "left": "10px",
    "top": "150px",
    "width": "165px"
   },
   "toc_section_display": true,
   "toc_window_display": true
  },
  "vscode": {
   "interpreter": {
    "hash": "53ca681ee8de3b54bf163d1b625454d8007d7c8aeafa791857ff706faaf06eee"
   }
  }
 },
 "nbformat": 4,
 "nbformat_minor": 5
}
