{
 "cells": [
  {
   "cell_type": "code",
   "execution_count": 1,
   "id": "f4f5229c",
   "metadata": {},
   "outputs": [],
   "source": [
    "using LinearAlgebra"
   ]
  },
  {
   "cell_type": "markdown",
   "id": "37db87a6",
   "metadata": {},
   "source": [
    "Seja n = 4, m = 2 e s = 2. Queremos escolher os dois melhores experimentos para maximizar nossa informação."
   ]
  },
  {
   "cell_type": "code",
   "execution_count": 2,
   "id": "ae7d6294",
   "metadata": {},
   "outputs": [
    {
     "data": {
      "text/plain": [
       "4×2 Matrix{Float64}:\n",
       " 0.1  0.2\n",
       " 0.7  0.4\n",
       " 0.3  0.9\n",
       " 0.8  0.6"
      ]
     },
     "metadata": {},
     "output_type": "display_data"
    }
   ],
   "source": [
    "A = [0.1 0.2; 0.7 0.4; 0.3 0.9; 0.8 0.6]"
   ]
  },
  {
   "cell_type": "markdown",
   "id": "4ccd4738",
   "metadata": {},
   "source": [
    "Seja x um vetor binario que decide quais experimentos vamos utilizar. \n",
    "Como s = 2, devemos necessariamente escolher dois experimentos. (Sum(x) = 2)"
   ]
  },
  {
   "cell_type": "code",
   "execution_count": 3,
   "id": "6db980d6",
   "metadata": {},
   "outputs": [],
   "source": [
    "x1 = [1 1 0 0];\n",
    "x2 = [1 0 1 0];\n",
    "x3 = [0 1 1 0];\n",
    "x4 = [1 0 0 1];\n",
    "x5 = [0 1 0 1];\n",
    "x6 = [0 0 1 1];"
   ]
  },
  {
   "cell_type": "markdown",
   "id": "d0fa0d8a",
   "metadata": {},
   "source": [
    "Vamos fazer uma busca exaustiva para exemplificar."
   ]
  },
  {
   "cell_type": "code",
   "execution_count": 10,
   "id": "ed9eaea3",
   "metadata": {},
   "outputs": [
    {
     "data": {
      "text/plain": [
       "2×4 adjoint(::Matrix{Float64}) with eltype Float64:\n",
       " 0.1  0.7  0.3  0.8\n",
       " 0.2  0.4  0.9  0.6"
      ]
     },
     "metadata": {},
     "output_type": "display_data"
    }
   ],
   "source": [
    "A'"
   ]
  },
  {
   "cell_type": "code",
   "execution_count": 11,
   "id": "22d584bc",
   "metadata": {},
   "outputs": [
    {
     "data": {
      "text/plain": [
       "4×2 Matrix{Float64}:\n",
       " 0.1  0.2\n",
       " 0.7  0.4\n",
       " 0.0  0.0\n",
       " 0.0  0.0"
      ]
     },
     "metadata": {},
     "output_type": "display_data"
    }
   ],
   "source": [
    "diagm(vec(x1))*A"
   ]
  },
  {
   "cell_type": "code",
   "execution_count": 9,
   "id": "55b6c8b3",
   "metadata": {},
   "outputs": [
    {
     "data": {
      "text/plain": [
       "2×2 Matrix{Float64}:\n",
       " 0.5  0.3\n",
       " 0.3  0.2"
      ]
     },
     "metadata": {},
     "output_type": "display_data"
    }
   ],
   "source": [
    "A'*diagm(vec(x1))*A"
   ]
  },
  {
   "cell_type": "code",
   "execution_count": 14,
   "id": "e597768c",
   "metadata": {},
   "outputs": [
    {
     "data": {
      "text/plain": [
       "-4.60517018598809"
      ]
     },
     "execution_count": 14,
     "metadata": {},
     "output_type": "execute_result"
    }
   ],
   "source": [
    "z1 = logdet(A'*diagm(vec(x1))*A)"
   ]
  },
  {
   "cell_type": "code",
   "execution_count": 15,
   "id": "ebf0ba59",
   "metadata": {},
   "outputs": [
    {
     "data": {
      "text/plain": [
       "-7.013115794639947"
      ]
     },
     "execution_count": 15,
     "metadata": {},
     "output_type": "execute_result"
    }
   ],
   "source": [
    "z2 = logdet(A'*diagm(vec(x2))*A)"
   ]
  },
  {
   "cell_type": "code",
   "execution_count": 16,
   "id": "852349f7",
   "metadata": {},
   "outputs": [
    {
     "data": {
      "text/plain": [
       "-1.3466891065275308"
      ]
     },
     "execution_count": 16,
     "metadata": {},
     "output_type": "execute_result"
    }
   ],
   "source": [
    "z3 = logdet(A'*diagm(vec(x3))*A)"
   ]
  },
  {
   "cell_type": "code",
   "execution_count": 17,
   "id": "8b538517",
   "metadata": {},
   "outputs": [
    {
     "data": {
      "text/plain": [
       "-4.605170185988091"
      ]
     },
     "execution_count": 17,
     "metadata": {},
     "output_type": "execute_result"
    }
   ],
   "source": [
    "z4 = logdet(A'*diagm(vec(x4))*A)"
   ]
  },
  {
   "cell_type": "code",
   "execution_count": 18,
   "id": "35d00721",
   "metadata": {},
   "outputs": [
    {
     "data": {
      "text/plain": [
       "-4.60517018598809"
      ]
     },
     "execution_count": 18,
     "metadata": {},
     "output_type": "execute_result"
    }
   ],
   "source": [
    "z5 = logdet(A'*diagm(vec(x5))*A)"
   ]
  },
  {
   "cell_type": "code",
   "execution_count": 19,
   "id": "7131e0e3",
   "metadata": {},
   "outputs": [
    {
     "data": {
      "text/plain": [
       "-1.232372278847634"
      ]
     },
     "execution_count": 19,
     "metadata": {},
     "output_type": "execute_result"
    }
   ],
   "source": [
    "z6 = logdet(A'*diagm(vec(x6))*A)"
   ]
  },
  {
   "cell_type": "markdown",
   "id": "76eff6d2",
   "metadata": {},
   "source": [
    "Vemos que o vetor que nos da a maior informação é x6. Portanto escolheremos as linhas 3 e 4 da matriz A (ou seja, selecionaremos os experimentos 3 e 4)"
   ]
  }
 ],
 "metadata": {
  "kernelspec": {
   "display_name": "Julia 1.6.7",
   "language": "julia",
   "name": "julia-1.6"
  },
  "language_info": {
   "file_extension": ".jl",
   "mimetype": "application/julia",
   "name": "julia",
   "version": "1.6.7"
  },
  "latex_envs": {
   "LaTeX_envs_menu_present": true,
   "autoclose": false,
   "autocomplete": true,
   "bibliofile": "biblio.bib",
   "cite_by": "apalike",
   "current_citInitial": 1,
   "eqLabelWithNumbers": true,
   "eqNumInitial": 1,
   "hotkeys": {
    "equation": "Ctrl-E",
    "itemize": "Ctrl-I"
   },
   "labels_anchors": false,
   "latex_user_defs": false,
   "report_style_numbering": false,
   "user_envs_cfg": false
  },
  "toc": {
   "base_numbering": 1,
   "nav_menu": {},
   "number_sections": true,
   "sideBar": true,
   "skip_h1_title": false,
   "title_cell": "Table of Contents",
   "title_sidebar": "Contents",
   "toc_cell": false,
   "toc_position": {},
   "toc_section_display": true,
   "toc_window_display": false
  },
  "vscode": {
   "interpreter": {
    "hash": "53ca681ee8de3b54bf163d1b625454d8007d7c8aeafa791857ff706faaf06eee"
   }
  }
 },
 "nbformat": 4,
 "nbformat_minor": 5
}
